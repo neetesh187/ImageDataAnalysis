{
  "nbformat": 4,
  "nbformat_minor": 0,
  "metadata": {
    "colab": {
      "name": "Scatter_DMOS.ipynb",
      "provenance": []
    },
    "kernelspec": {
      "name": "python3",
      "display_name": "Python 3"
    },
    "language_info": {
      "name": "python"
    }
  },
  "cells": [
    {
      "cell_type": "code",
      "execution_count": 1,
      "metadata": {
        "colab": {
          "base_uri": "https://localhost:8080/"
        },
        "id": "GP-k-AGUlXPv",
        "outputId": "df94484c-3f00-403f-98d5-c7be408792f8"
      },
      "outputs": [
        {
          "output_type": "stream",
          "name": "stdout",
          "text": [
            "Looking in indexes: https://pypi.org/simple, https://us-python.pkg.dev/colab-wheels/public/simple/\n",
            "Collecting joypy\n",
            "  Downloading joypy-0.2.6-py2.py3-none-any.whl (8.6 kB)\n",
            "Requirement already satisfied: pandas>=0.20.0 in /usr/local/lib/python3.7/dist-packages (from joypy) (1.3.5)\n",
            "Requirement already satisfied: scipy>=0.11.0 in /usr/local/lib/python3.7/dist-packages (from joypy) (1.7.3)\n",
            "Requirement already satisfied: matplotlib in /usr/local/lib/python3.7/dist-packages (from joypy) (3.2.2)\n",
            "Requirement already satisfied: numpy>=1.16.5 in /usr/local/lib/python3.7/dist-packages (from joypy) (1.21.6)\n",
            "Requirement already satisfied: pytz>=2017.3 in /usr/local/lib/python3.7/dist-packages (from pandas>=0.20.0->joypy) (2022.1)\n",
            "Requirement already satisfied: python-dateutil>=2.7.3 in /usr/local/lib/python3.7/dist-packages (from pandas>=0.20.0->joypy) (2.8.2)\n",
            "Requirement already satisfied: six>=1.5 in /usr/local/lib/python3.7/dist-packages (from python-dateutil>=2.7.3->pandas>=0.20.0->joypy) (1.15.0)\n",
            "Requirement already satisfied: cycler>=0.10 in /usr/local/lib/python3.7/dist-packages (from matplotlib->joypy) (0.11.0)\n",
            "Requirement already satisfied: pyparsing!=2.0.4,!=2.1.2,!=2.1.6,>=2.0.1 in /usr/local/lib/python3.7/dist-packages (from matplotlib->joypy) (3.0.9)\n",
            "Requirement already satisfied: kiwisolver>=1.0.1 in /usr/local/lib/python3.7/dist-packages (from matplotlib->joypy) (1.4.4)\n",
            "Requirement already satisfied: typing-extensions in /usr/local/lib/python3.7/dist-packages (from kiwisolver>=1.0.1->matplotlib->joypy) (4.1.1)\n",
            "Installing collected packages: joypy\n",
            "Successfully installed joypy-0.2.6\n"
          ]
        },
        {
          "output_type": "stream",
          "name": "stderr",
          "text": [
            "/usr/local/lib/python3.7/dist-packages/statsmodels/tools/_testing.py:19: FutureWarning: pandas.util.testing is deprecated. Use the functions in the public API at pandas.testing instead.\n",
            "  import pandas.util.testing as tm\n"
          ]
        }
      ],
      "source": [
        "!pip install joypy\n",
        "\n",
        "\n",
        "from google.colab import drive\n",
        "import pandas as pd\n",
        "import seaborn as sns\n",
        "import numpy as np\n",
        "from matplotlib.pyplot import figure\n",
        "from statsmodels.graphics.gofplots import qqplot\n",
        "from joypy import joyplot"
      ]
    },
    {
      "cell_type": "code",
      "source": [
        "drive.mount('/content/drive')"
      ],
      "metadata": {
        "colab": {
          "base_uri": "https://localhost:8080/"
        },
        "id": "AiH0DE8slg8O",
        "outputId": "a7d554ab-3874-418a-cfcf-8a681ed256c7"
      },
      "execution_count": 2,
      "outputs": [
        {
          "output_type": "stream",
          "name": "stdout",
          "text": [
            "Mounted at /content/drive\n"
          ]
        }
      ]
    },
    {
      "cell_type": "code",
      "source": [
        "df = pd.read_csv(\"/content/drive/MyDrive/IDA/dmos/dmos_mean.csv\")\n",
        "df.head()"
      ],
      "metadata": {
        "colab": {
          "base_uri": "https://localhost:8080/",
          "height": 206
        },
        "id": "PKFHYhkklg2f",
        "outputId": "f64a4c74-8c8a-4c5e-faee-1bd63c00566f"
      },
      "execution_count": 3,
      "outputs": [
        {
          "output_type": "execute_result",
          "data": {
            "text/plain": [
              "  disimage         2         4        16        18        19        20  \\\n",
              "0       PH  3.064005  3.510722  2.656893  3.060255  2.685823  2.713613   \n",
              "1       PA  2.604765  3.122173  2.410282  2.621008  2.143037  2.888691   \n",
              "2       PL  2.279171  2.277972  2.713452  2.205271  2.838817  2.351392   \n",
              "3       BH  3.040164  3.207952  3.079730  3.195601  2.707644  3.481927   \n",
              "4       BA  2.724769  3.197344  3.048291  2.767173  2.542678  3.342119   \n",
              "\n",
              "         24        28        42        47  \n",
              "0  3.179243  3.028993  3.267961  2.914408  \n",
              "1  2.660649  2.934241  2.947299  2.746740  \n",
              "2  2.266387  2.080908  2.752001  2.494838  \n",
              "3  3.024325  2.973079  3.036964  3.324417  \n",
              "4  3.127473  2.983487  3.014906  3.435789  "
            ],
            "text/html": [
              "\n",
              "  <div id=\"df-3854e66e-e110-419a-b243-c2f5ab55a80c\">\n",
              "    <div class=\"colab-df-container\">\n",
              "      <div>\n",
              "<style scoped>\n",
              "    .dataframe tbody tr th:only-of-type {\n",
              "        vertical-align: middle;\n",
              "    }\n",
              "\n",
              "    .dataframe tbody tr th {\n",
              "        vertical-align: top;\n",
              "    }\n",
              "\n",
              "    .dataframe thead th {\n",
              "        text-align: right;\n",
              "    }\n",
              "</style>\n",
              "<table border=\"1\" class=\"dataframe\">\n",
              "  <thead>\n",
              "    <tr style=\"text-align: right;\">\n",
              "      <th></th>\n",
              "      <th>disimage</th>\n",
              "      <th>2</th>\n",
              "      <th>4</th>\n",
              "      <th>16</th>\n",
              "      <th>18</th>\n",
              "      <th>19</th>\n",
              "      <th>20</th>\n",
              "      <th>24</th>\n",
              "      <th>28</th>\n",
              "      <th>42</th>\n",
              "      <th>47</th>\n",
              "    </tr>\n",
              "  </thead>\n",
              "  <tbody>\n",
              "    <tr>\n",
              "      <th>0</th>\n",
              "      <td>PH</td>\n",
              "      <td>3.064005</td>\n",
              "      <td>3.510722</td>\n",
              "      <td>2.656893</td>\n",
              "      <td>3.060255</td>\n",
              "      <td>2.685823</td>\n",
              "      <td>2.713613</td>\n",
              "      <td>3.179243</td>\n",
              "      <td>3.028993</td>\n",
              "      <td>3.267961</td>\n",
              "      <td>2.914408</td>\n",
              "    </tr>\n",
              "    <tr>\n",
              "      <th>1</th>\n",
              "      <td>PA</td>\n",
              "      <td>2.604765</td>\n",
              "      <td>3.122173</td>\n",
              "      <td>2.410282</td>\n",
              "      <td>2.621008</td>\n",
              "      <td>2.143037</td>\n",
              "      <td>2.888691</td>\n",
              "      <td>2.660649</td>\n",
              "      <td>2.934241</td>\n",
              "      <td>2.947299</td>\n",
              "      <td>2.746740</td>\n",
              "    </tr>\n",
              "    <tr>\n",
              "      <th>2</th>\n",
              "      <td>PL</td>\n",
              "      <td>2.279171</td>\n",
              "      <td>2.277972</td>\n",
              "      <td>2.713452</td>\n",
              "      <td>2.205271</td>\n",
              "      <td>2.838817</td>\n",
              "      <td>2.351392</td>\n",
              "      <td>2.266387</td>\n",
              "      <td>2.080908</td>\n",
              "      <td>2.752001</td>\n",
              "      <td>2.494838</td>\n",
              "    </tr>\n",
              "    <tr>\n",
              "      <th>3</th>\n",
              "      <td>BH</td>\n",
              "      <td>3.040164</td>\n",
              "      <td>3.207952</td>\n",
              "      <td>3.079730</td>\n",
              "      <td>3.195601</td>\n",
              "      <td>2.707644</td>\n",
              "      <td>3.481927</td>\n",
              "      <td>3.024325</td>\n",
              "      <td>2.973079</td>\n",
              "      <td>3.036964</td>\n",
              "      <td>3.324417</td>\n",
              "    </tr>\n",
              "    <tr>\n",
              "      <th>4</th>\n",
              "      <td>BA</td>\n",
              "      <td>2.724769</td>\n",
              "      <td>3.197344</td>\n",
              "      <td>3.048291</td>\n",
              "      <td>2.767173</td>\n",
              "      <td>2.542678</td>\n",
              "      <td>3.342119</td>\n",
              "      <td>3.127473</td>\n",
              "      <td>2.983487</td>\n",
              "      <td>3.014906</td>\n",
              "      <td>3.435789</td>\n",
              "    </tr>\n",
              "  </tbody>\n",
              "</table>\n",
              "</div>\n",
              "      <button class=\"colab-df-convert\" onclick=\"convertToInteractive('df-3854e66e-e110-419a-b243-c2f5ab55a80c')\"\n",
              "              title=\"Convert this dataframe to an interactive table.\"\n",
              "              style=\"display:none;\">\n",
              "        \n",
              "  <svg xmlns=\"http://www.w3.org/2000/svg\" height=\"24px\"viewBox=\"0 0 24 24\"\n",
              "       width=\"24px\">\n",
              "    <path d=\"M0 0h24v24H0V0z\" fill=\"none\"/>\n",
              "    <path d=\"M18.56 5.44l.94 2.06.94-2.06 2.06-.94-2.06-.94-.94-2.06-.94 2.06-2.06.94zm-11 1L8.5 8.5l.94-2.06 2.06-.94-2.06-.94L8.5 2.5l-.94 2.06-2.06.94zm10 10l.94 2.06.94-2.06 2.06-.94-2.06-.94-.94-2.06-.94 2.06-2.06.94z\"/><path d=\"M17.41 7.96l-1.37-1.37c-.4-.4-.92-.59-1.43-.59-.52 0-1.04.2-1.43.59L10.3 9.45l-7.72 7.72c-.78.78-.78 2.05 0 2.83L4 21.41c.39.39.9.59 1.41.59.51 0 1.02-.2 1.41-.59l7.78-7.78 2.81-2.81c.8-.78.8-2.07 0-2.86zM5.41 20L4 18.59l7.72-7.72 1.47 1.35L5.41 20z\"/>\n",
              "  </svg>\n",
              "      </button>\n",
              "      \n",
              "  <style>\n",
              "    .colab-df-container {\n",
              "      display:flex;\n",
              "      flex-wrap:wrap;\n",
              "      gap: 12px;\n",
              "    }\n",
              "\n",
              "    .colab-df-convert {\n",
              "      background-color: #E8F0FE;\n",
              "      border: none;\n",
              "      border-radius: 50%;\n",
              "      cursor: pointer;\n",
              "      display: none;\n",
              "      fill: #1967D2;\n",
              "      height: 32px;\n",
              "      padding: 0 0 0 0;\n",
              "      width: 32px;\n",
              "    }\n",
              "\n",
              "    .colab-df-convert:hover {\n",
              "      background-color: #E2EBFA;\n",
              "      box-shadow: 0px 1px 2px rgba(60, 64, 67, 0.3), 0px 1px 3px 1px rgba(60, 64, 67, 0.15);\n",
              "      fill: #174EA6;\n",
              "    }\n",
              "\n",
              "    [theme=dark] .colab-df-convert {\n",
              "      background-color: #3B4455;\n",
              "      fill: #D2E3FC;\n",
              "    }\n",
              "\n",
              "    [theme=dark] .colab-df-convert:hover {\n",
              "      background-color: #434B5C;\n",
              "      box-shadow: 0px 1px 3px 1px rgba(0, 0, 0, 0.15);\n",
              "      filter: drop-shadow(0px 1px 2px rgba(0, 0, 0, 0.3));\n",
              "      fill: #FFFFFF;\n",
              "    }\n",
              "  </style>\n",
              "\n",
              "      <script>\n",
              "        const buttonEl =\n",
              "          document.querySelector('#df-3854e66e-e110-419a-b243-c2f5ab55a80c button.colab-df-convert');\n",
              "        buttonEl.style.display =\n",
              "          google.colab.kernel.accessAllowed ? 'block' : 'none';\n",
              "\n",
              "        async function convertToInteractive(key) {\n",
              "          const element = document.querySelector('#df-3854e66e-e110-419a-b243-c2f5ab55a80c');\n",
              "          const dataTable =\n",
              "            await google.colab.kernel.invokeFunction('convertToInteractive',\n",
              "                                                     [key], {});\n",
              "          if (!dataTable) return;\n",
              "\n",
              "          const docLinkHtml = 'Like what you see? Visit the ' +\n",
              "            '<a target=\"_blank\" href=https://colab.research.google.com/notebooks/data_table.ipynb>data table notebook</a>'\n",
              "            + ' to learn more about interactive tables.';\n",
              "          element.innerHTML = '';\n",
              "          dataTable['output_type'] = 'display_data';\n",
              "          await google.colab.output.renderOutput(dataTable, element);\n",
              "          const docLink = document.createElement('div');\n",
              "          docLink.innerHTML = docLinkHtml;\n",
              "          element.appendChild(docLink);\n",
              "        }\n",
              "      </script>\n",
              "    </div>\n",
              "  </div>\n",
              "  "
            ]
          },
          "metadata": {},
          "execution_count": 3
        }
      ]
    },
    {
      "cell_type": "code",
      "source": [
        " figure(figsize=(10, 5), dpi=65)\n",
        "data = df[df[\"2\"] <= 5]\n",
        "sns.scatterplot(data=data, x=\"disimage\", y=\"2\")"
      ],
      "metadata": {
        "colab": {
          "base_uri": "https://localhost:8080/",
          "height": 320
        },
        "id": "4_7Rddy-mFY3",
        "outputId": "fa109658-ecd2-48b4-f9a9-296c10291e52"
      },
      "execution_count": 4,
      "outputs": [
        {
          "output_type": "execute_result",
          "data": {
            "text/plain": [
              "<matplotlib.axes._subplots.AxesSubplot at 0x7fe499951ed0>"
            ]
          },
          "metadata": {},
          "execution_count": 4
        },
        {
          "output_type": "display_data",
          "data": {
            "text/plain": [
              "<Figure size 650x325 with 1 Axes>"
            ],
            "image/png": "[encoded data removed]"
          },
          "metadata": {
            "needs_background": "light"
          }
        }
      ]
    },
    {
      "cell_type": "code",
      "source": [
        "figure(figsize=(10, 5), dpi=65)\n",
        "data = df[df[\"4\"] <= 5]\n",
        "sns.scatterplot(data=data, x=\"disimage\", y=\"4\")"
      ],
      "metadata": {
        "colab": {
          "base_uri": "https://localhost:8080/",
          "height": 320
        },
        "id": "iMJO5TTkmFTU",
        "outputId": "3dfa2e35-1a3b-4739-a7d8-f1153ee304e7"
      },
      "execution_count": 5,
      "outputs": [
        {
          "output_type": "execute_result",
          "data": {
            "text/plain": [
              "<matplotlib.axes._subplots.AxesSubplot at 0x7fe49989f050>"
            ]
          },
          "metadata": {},
          "execution_count": 5
        },
        {
          "output_type": "display_data",
          "data": {
            "text/plain": [
              "<Figure size 650x325 with 1 Axes>"
            ],
            "image/png": "[encoded data removed]"
          },
          "metadata": {
            "needs_background": "light"
          }
        }
      ]
    },
    {
      "cell_type": "code",
      "source": [
        "figure(figsize=(10, 5), dpi=65)\n",
        "data = df[df[\"16\"] <= 5]\n",
        "sns.scatterplot(data=data, x=\"disimage\", y=\"16\")"
      ],
      "metadata": {
        "colab": {
          "base_uri": "https://localhost:8080/",
          "height": 320
        },
        "id": "xQOYI5tgmFQP",
        "outputId": "4c6f4ef5-2318-4199-a9f2-c458b031ac27"
      },
      "execution_count": 6,
      "outputs": [
        {
          "output_type": "execute_result",
          "data": {
            "text/plain": [
              "<matplotlib.axes._subplots.AxesSubplot at 0x7fe49934f150>"
            ]
          },
          "metadata": {},
          "execution_count": 6
        },
        {
          "output_type": "display_data",
          "data": {
            "text/plain": [
              "<Figure size 650x325 with 1 Axes>"
            ],
            "image/png": "[encoded data removed]"
          },
          "metadata": {
            "needs_background": "light"
          }
        }
      ]
    },
    {
      "cell_type": "code",
      "source": [
        "figure(figsize=(10, 5), dpi=65)\n",
        "data = df[df[\"18\"] <= 5]\n",
        "sns.scatterplot(data=data, x=\"disimage\", y=\"18\")"
      ],
      "metadata": {
        "colab": {
          "base_uri": "https://localhost:8080/",
          "height": 321
        },
        "id": "Kl1FgS4tmFKg",
        "outputId": "f155de99-32f7-4023-ad55-f93edff75759"
      },
      "execution_count": 7,
      "outputs": [
        {
          "output_type": "execute_result",
          "data": {
            "text/plain": [
              "<matplotlib.axes._subplots.AxesSubplot at 0x7fe4992b0090>"
            ]
          },
          "metadata": {},
          "execution_count": 7
        },
        {
          "output_type": "display_data",
          "data": {
            "text/plain": [
              "<Figure size 650x325 with 1 Axes>"
            ],
            "image/png": "[encoded data removed]"
          },
          "metadata": {
            "needs_background": "light"
          }
        }
      ]
    },
    {
      "cell_type": "code",
      "source": [
        "figure(figsize=(10, 5), dpi=65)\n",
        "data = df[df[\"19\"] <= 5]\n",
        "sns.scatterplot(data=data, x=\"disimage\", y=\"19\")"
      ],
      "metadata": {
        "colab": {
          "base_uri": "https://localhost:8080/",
          "height": 320
        },
        "id": "ZyNWmF8PmhbH",
        "outputId": "3aa9f40b-882e-4ff6-a9c6-8f63155ac2cd"
      },
      "execution_count": 8,
      "outputs": [
        {
          "output_type": "execute_result",
          "data": {
            "text/plain": [
              "<matplotlib.axes._subplots.AxesSubplot at 0x7fe4992501d0>"
            ]
          },
          "metadata": {},
          "execution_count": 8
        },
        {
          "output_type": "display_data",
          "data": {
            "text/plain": [
              "<Figure size 650x325 with 1 Axes>"
            ],
            "image/png": "[encoded data removed]"
          },
          "metadata": {
            "needs_background": "light"
          }
        }
      ]
    },
    {
      "cell_type": "code",
      "source": [
        "figure(figsize=(10, 5), dpi=65)\n",
        "data = df[df[\"20\"] <= 5]\n",
        "sns.scatterplot(data=data, x=\"disimage\", y=\"20\")"
      ],
      "metadata": {
        "colab": {
          "base_uri": "https://localhost:8080/",
          "height": 320
        },
        "id": "LZD9TsQMmh8H",
        "outputId": "1f0cd28b-f41e-405c-9165-5d63c81b4bec"
      },
      "execution_count": 9,
      "outputs": [
        {
          "output_type": "execute_result",
          "data": {
            "text/plain": [
              "<matplotlib.axes._subplots.AxesSubplot at 0x7fe4991e4090>"
            ]
          },
          "metadata": {},
          "execution_count": 9
        },
        {
          "output_type": "display_data",
          "data": {
            "text/plain": [
              "<Figure size 650x325 with 1 Axes>"
            ],
            "image/png": "[encoded data removed]"
          },
          "metadata": {
            "needs_background": "light"
          }
        }
      ]
    },
    {
      "cell_type": "code",
      "source": [
        "figure(figsize=(10, 5), dpi=65)\n",
        "data = df[df[\"24\"] <= 5]\n",
        "sns.scatterplot(data=data, x=\"disimage\", y=\"24\")"
      ],
      "metadata": {
        "colab": {
          "base_uri": "https://localhost:8080/",
          "height": 320
        },
        "id": "eRkLp1ugmiiL",
        "outputId": "cbd71bab-d014-4918-ad83-5ed76521399c"
      },
      "execution_count": 10,
      "outputs": [
        {
          "output_type": "execute_result",
          "data": {
            "text/plain": [
              "<matplotlib.axes._subplots.AxesSubplot at 0x7fe4990f8350>"
            ]
          },
          "metadata": {},
          "execution_count": 10
        },
        {
          "output_type": "display_data",
          "data": {
            "text/plain": [
              "<Figure size 650x325 with 1 Axes>"
            ],
            "image/png": "[encoded data removed]"
          },
          "metadata": {
            "needs_background": "light"
          }
        }
      ]
    },
    {
      "cell_type": "code",
      "source": [
        "figure(figsize=(10, 5), dpi=65)\n",
        "data = df[df[\"28\"] <= 5]\n",
        "sns.scatterplot(data=data, x=\"disimage\", y=\"28\")"
      ],
      "metadata": {
        "colab": {
          "base_uri": "https://localhost:8080/",
          "height": 320
        },
        "id": "dFDl-xNKmk_r",
        "outputId": "b4f73c5f-1e78-472a-e357-f59fc9148946"
      },
      "execution_count": 11,
      "outputs": [
        {
          "output_type": "execute_result",
          "data": {
            "text/plain": [
              "<matplotlib.axes._subplots.AxesSubplot at 0x7fe49908a310>"
            ]
          },
          "metadata": {},
          "execution_count": 11
        },
        {
          "output_type": "display_data",
          "data": {
            "text/plain": [
              "<Figure size 650x325 with 1 Axes>"
            ],
            "image/png": "[encoded data removed]"
          },
          "metadata": {
            "needs_background": "light"
          }
        }
      ]
    },
    {
      "cell_type": "code",
      "source": [
        "figure(figsize=(10, 5), dpi=65)\n",
        "data = df[df[\"42\"] <= 5]\n",
        "sns.scatterplot(data=data, x=\"disimage\", y=\"42\")"
      ],
      "metadata": {
        "colab": {
          "base_uri": "https://localhost:8080/",
          "height": 320
        },
        "id": "GJWodUSfmlpn",
        "outputId": "c08208a6-9dd5-4022-d4c8-a4b91183d9d7"
      },
      "execution_count": 12,
      "outputs": [
        {
          "output_type": "execute_result",
          "data": {
            "text/plain": [
              "<matplotlib.axes._subplots.AxesSubplot at 0x7fe499025050>"
            ]
          },
          "metadata": {},
          "execution_count": 12
        },
        {
          "output_type": "display_data",
          "data": {
            "text/plain": [
              "<Figure size 650x325 with 1 Axes>"
            ],
            "image/png": "[encoded data removed]"
          },
          "metadata": {
            "needs_background": "light"
          }
        }
      ]
    },
    {
      "cell_type": "code",
      "source": [
        "figure(figsize=(10, 5), dpi=65)\n",
        "data = df[df[\"47\"] <= 5]\n",
        "sns.scatterplot(data=data, x=\"disimage\", y=\"47\")"
      ],
      "metadata": {
        "colab": {
          "base_uri": "https://localhost:8080/",
          "height": 320
        },
        "id": "ovuAkr2OmmTO",
        "outputId": "45156da3-acac-4293-9f2f-c7c41dcb249e"
      },
      "execution_count": 13,
      "outputs": [
        {
          "output_type": "execute_result",
          "data": {
            "text/plain": [
              "<matplotlib.axes._subplots.AxesSubplot at 0x7fe498f2e110>"
            ]
          },
          "metadata": {},
          "execution_count": 13
        },
        {
          "output_type": "display_data",
          "data": {
            "text/plain": [
              "<Figure size 650x325 with 1 Axes>"
            ],
            "image/png": "[encoded data removed]"
          },
          "metadata": {
            "needs_background": "light"
          }
        }
      ]
    }
  ]
}