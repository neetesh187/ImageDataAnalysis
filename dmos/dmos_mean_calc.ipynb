{
  "nbformat": 4,
  "nbformat_minor": 0,
  "metadata": {
    "colab": {
      "name": "dmos_mean_calc.ipynb",
      "provenance": [],
      "collapsed_sections": []
    },
    "kernelspec": {
      "name": "python3",
      "display_name": "Python 3"
    },
    "language_info": {
      "name": "python"
    }
  },
  "cells": [
    {
      "cell_type": "code",
      "execution_count": 1,
      "metadata": {
        "colab": {
          "base_uri": "https://localhost:8080/"
        },
        "id": "CfazN-i9whch",
        "outputId": "a03c5e1f-6d21-4c0d-8ced-fbab8229707f"
      },
      "outputs": [
        {
          "output_type": "stream",
          "name": "stdout",
          "text": [
            "Looking in indexes: https://pypi.org/simple, https://us-python.pkg.dev/colab-wheels/public/simple/\n",
            "Collecting joypy\n",
            "  Downloading joypy-0.2.6-py2.py3-none-any.whl (8.6 kB)\n",
            "Requirement already satisfied: scipy>=0.11.0 in /usr/local/lib/python3.7/dist-packages (from joypy) (1.4.1)\n",
            "Requirement already satisfied: numpy>=1.16.5 in /usr/local/lib/python3.7/dist-packages (from joypy) (1.21.6)\n",
            "Requirement already satisfied: matplotlib in /usr/local/lib/python3.7/dist-packages (from joypy) (3.2.2)\n",
            "Requirement already satisfied: pandas>=0.20.0 in /usr/local/lib/python3.7/dist-packages (from joypy) (1.3.5)\n",
            "Requirement already satisfied: python-dateutil>=2.7.3 in /usr/local/lib/python3.7/dist-packages (from pandas>=0.20.0->joypy) (2.8.2)\n",
            "Requirement already satisfied: pytz>=2017.3 in /usr/local/lib/python3.7/dist-packages (from pandas>=0.20.0->joypy) (2022.1)\n",
            "Requirement already satisfied: six>=1.5 in /usr/local/lib/python3.7/dist-packages (from python-dateutil>=2.7.3->pandas>=0.20.0->joypy) (1.15.0)\n",
            "Requirement already satisfied: cycler>=0.10 in /usr/local/lib/python3.7/dist-packages (from matplotlib->joypy) (0.11.0)\n",
            "Requirement already satisfied: pyparsing!=2.0.4,!=2.1.2,!=2.1.6,>=2.0.1 in /usr/local/lib/python3.7/dist-packages (from matplotlib->joypy) (3.0.9)\n",
            "Requirement already satisfied: kiwisolver>=1.0.1 in /usr/local/lib/python3.7/dist-packages (from matplotlib->joypy) (1.4.3)\n",
            "Requirement already satisfied: typing-extensions in /usr/local/lib/python3.7/dist-packages (from kiwisolver>=1.0.1->matplotlib->joypy) (4.1.1)\n",
            "Installing collected packages: joypy\n",
            "Successfully installed joypy-0.2.6\n"
          ]
        },
        {
          "output_type": "stream",
          "name": "stderr",
          "text": [
            "/usr/local/lib/python3.7/dist-packages/statsmodels/tools/_testing.py:19: FutureWarning: pandas.util.testing is deprecated. Use the functions in the public API at pandas.testing instead.\n",
            "  import pandas.util.testing as tm\n"
          ]
        }
      ],
      "source": [
        "!pip install joypy\n",
        "\n",
        "\n",
        "\n",
        "from google.colab import drive\n",
        "import pandas as pd\n",
        "import seaborn as sns\n",
        "import numpy as np\n",
        "import matplotlib.pyplot as plt\n",
        "from matplotlib import transforms\n",
        "from statsmodels.graphics.gofplots import qqplot\n",
        "from joypy import joyplot\n"
      ]
    },
    {
      "cell_type": "code",
      "source": [
        "drive.mount('/content/drive')"
      ],
      "metadata": {
        "colab": {
          "base_uri": "https://localhost:8080/"
        },
        "id": "QmiRdSL4wsS_",
        "outputId": "364fd7af-dd21-4339-a8b2-fb4216f8258a"
      },
      "execution_count": 2,
      "outputs": [
        {
          "output_type": "stream",
          "name": "stdout",
          "text": [
            "Mounted at /content/drive\n"
          ]
        }
      ]
    },
    {
      "cell_type": "code",
      "source": [
        "filepath = \"/content/drive/MyDrive/IDA/dmos/dmosmaindata.csv\"\n",
        "data_img = pd.read_csv(filepath)\n",
        "data_img\n"
      ],
      "metadata": {
        "colab": {
          "base_uri": "https://localhost:8080/",
          "height": 488
        },
        "id": "hZKkoJctw0kY",
        "outputId": "13a2ac8e-e78d-4be6-9f2d-18e06c0b0381"
      },
      "execution_count": 3,
      "outputs": [
        {
          "output_type": "execute_result",
          "data": {
            "text/plain": [
              "     Image  Subject   DMOS_PH   DMOS_PA   DMOS_PL   DMOS_BH   DMOS_BA  \\\n",
              "0        2        1  3.120100  1.251787  3.120100  4.054256  3.120100   \n",
              "1        2        2  3.456190  2.048657  1.344891  3.456190  2.752423   \n",
              "2        2        3  3.377778  2.548148  1.718518  1.718518  1.718518   \n",
              "3        2        4  4.377670  4.377670  2.451140  1.487875  1.487875   \n",
              "4        2        5  2.947917  4.092021  2.947917  5.236124  2.947917   \n",
              "..     ...      ...       ...       ...       ...       ...       ...   \n",
              "156     47      157  3.047327  3.704946  3.047327  3.704946  3.047327   \n",
              "157     47      158  2.652793  1.420226  2.036509  3.885360  3.885360   \n",
              "158     47      159  2.635531  4.249938  1.828328  4.249938  4.249938   \n",
              "159     47      160  2.833333  2.833333  0.869148  2.833333  2.833333   \n",
              "160     47      161  4.201358  2.663634  2.663634  3.432496  4.201358   \n",
              "\n",
              "      DMOS_BL  DMOS_MBH  DMOS_MBA  ...  DMOS_GBA  DMOS_GBL  DMOS_GNH  \\\n",
              "0    2.185943  4.054256  4.054256  ...  4.054256  2.185943  2.185943   \n",
              "1    2.752423  4.159956  3.456190  ...  4.159956  4.159956  2.048657   \n",
              "2    3.377778  2.548148  2.548148  ...  1.718518  1.718518  4.207408   \n",
              "3    3.414405  3.414405  2.451140  ...  2.451140  2.451140  4.377670   \n",
              "4    2.947917  2.947917  4.092021  ...  1.803814  2.947917  2.947917   \n",
              "..        ...       ...       ...  ...       ...       ...       ...   \n",
              "156  3.047327  3.704946  3.047327  ...  4.362565  3.704946  2.389708   \n",
              "157  3.269077  3.885360  3.885360  ...  3.885360  3.885360  2.036509   \n",
              "158  3.442735  3.442735  3.442735  ...  3.442735  3.442735  2.635531   \n",
              "159  2.833333  2.833333  2.833333  ...  0.869148  2.833333  4.797519   \n",
              "160  4.201358  3.432496  2.663634  ...  2.663634  2.663634  3.432496   \n",
              "\n",
              "     DMOS_GNA  DMOS_GNL  DMOS_SPH  DMOS_SPA  DMOS_SPL   DMOS_PN  OR  \n",
              "0    2.185943  2.185943  3.120100  3.120100  2.185943  1.251787   4  \n",
              "1    2.752423  2.048657  2.752423  2.752423  2.048657  1.344891   5  \n",
              "2    4.207408  3.377778  3.377778  2.548148  4.207408  2.548148   2  \n",
              "3    2.451140  3.414405  3.414405  3.414405  2.451140  1.487875   2  \n",
              "4    1.803814  2.947917  1.803814  2.947917  2.947917  1.803814   4  \n",
              "..        ...       ...       ...       ...       ...       ...  ..  \n",
              "156  1.732088  1.732088  1.732088  1.732088  1.732088  1.732088   5  \n",
              "157  2.652793  2.036509  3.269077  1.420226  2.036509  2.036509   5  \n",
              "158  1.828328  1.828328  1.828328  2.635531  1.828328  1.828328   4  \n",
              "159  2.833333  2.833333  2.833333  2.833333  2.833333  4.797519   2  \n",
              "160  1.894772  2.663634  3.432496  1.894772  1.894772  1.125910   5  \n",
              "\n",
              "[161 rows x 22 columns]"
            ],
            "text/html": [
              "\n",
              "  <div id=\"df-0a342d7f-cd52-4a95-baa6-81db5591cbe4\">\n",
              "    <div class=\"colab-df-container\">\n",
              "      <div>\n",
              "<style scoped>\n",
              "    .dataframe tbody tr th:only-of-type {\n",
              "        vertical-align: middle;\n",
              "    }\n",
              "\n",
              "    .dataframe tbody tr th {\n",
              "        vertical-align: top;\n",
              "    }\n",
              "\n",
              "    .dataframe thead th {\n",
              "        text-align: right;\n",
              "    }\n",
              "</style>\n",
              "<table border=\"1\" class=\"dataframe\">\n",
              "  <thead>\n",
              "    <tr style=\"text-align: right;\">\n",
              "      <th></th>\n",
              "      <th>Image</th>\n",
              "      <th>Subject</th>\n",
              "      <th>DMOS_PH</th>\n",
              "      <th>DMOS_PA</th>\n",
              "      <th>DMOS_PL</th>\n",
              "      <th>DMOS_BH</th>\n",
              "      <th>DMOS_BA</th>\n",
              "      <th>DMOS_BL</th>\n",
              "      <th>DMOS_MBH</th>\n",
              "      <th>DMOS_MBA</th>\n",
              "      <th>...</th>\n",
              "      <th>DMOS_GBA</th>\n",
              "      <th>DMOS_GBL</th>\n",
              "      <th>DMOS_GNH</th>\n",
              "      <th>DMOS_GNA</th>\n",
              "      <th>DMOS_GNL</th>\n",
              "      <th>DMOS_SPH</th>\n",
              "      <th>DMOS_SPA</th>\n",
              "      <th>DMOS_SPL</th>\n",
              "      <th>DMOS_PN</th>\n",
              "      <th>OR</th>\n",
              "    </tr>\n",
              "  </thead>\n",
              "  <tbody>\n",
              "    <tr>\n",
              "      <th>0</th>\n",
              "      <td>2</td>\n",
              "      <td>1</td>\n",
              "      <td>3.120100</td>\n",
              "      <td>1.251787</td>\n",
              "      <td>3.120100</td>\n",
              "      <td>4.054256</td>\n",
              "      <td>3.120100</td>\n",
              "      <td>2.185943</td>\n",
              "      <td>4.054256</td>\n",
              "      <td>4.054256</td>\n",
              "      <td>...</td>\n",
              "      <td>4.054256</td>\n",
              "      <td>2.185943</td>\n",
              "      <td>2.185943</td>\n",
              "      <td>2.185943</td>\n",
              "      <td>2.185943</td>\n",
              "      <td>3.120100</td>\n",
              "      <td>3.120100</td>\n",
              "      <td>2.185943</td>\n",
              "      <td>1.251787</td>\n",
              "      <td>4</td>\n",
              "    </tr>\n",
              "    <tr>\n",
              "      <th>1</th>\n",
              "      <td>2</td>\n",
              "      <td>2</td>\n",
              "      <td>3.456190</td>\n",
              "      <td>2.048657</td>\n",
              "      <td>1.344891</td>\n",
              "      <td>3.456190</td>\n",
              "      <td>2.752423</td>\n",
              "      <td>2.752423</td>\n",
              "      <td>4.159956</td>\n",
              "      <td>3.456190</td>\n",
              "      <td>...</td>\n",
              "      <td>4.159956</td>\n",
              "      <td>4.159956</td>\n",
              "      <td>2.048657</td>\n",
              "      <td>2.752423</td>\n",
              "      <td>2.048657</td>\n",
              "      <td>2.752423</td>\n",
              "      <td>2.752423</td>\n",
              "      <td>2.048657</td>\n",
              "      <td>1.344891</td>\n",
              "      <td>5</td>\n",
              "    </tr>\n",
              "    <tr>\n",
              "      <th>2</th>\n",
              "      <td>2</td>\n",
              "      <td>3</td>\n",
              "      <td>3.377778</td>\n",
              "      <td>2.548148</td>\n",
              "      <td>1.718518</td>\n",
              "      <td>1.718518</td>\n",
              "      <td>1.718518</td>\n",
              "      <td>3.377778</td>\n",
              "      <td>2.548148</td>\n",
              "      <td>2.548148</td>\n",
              "      <td>...</td>\n",
              "      <td>1.718518</td>\n",
              "      <td>1.718518</td>\n",
              "      <td>4.207408</td>\n",
              "      <td>4.207408</td>\n",
              "      <td>3.377778</td>\n",
              "      <td>3.377778</td>\n",
              "      <td>2.548148</td>\n",
              "      <td>4.207408</td>\n",
              "      <td>2.548148</td>\n",
              "      <td>2</td>\n",
              "    </tr>\n",
              "    <tr>\n",
              "      <th>3</th>\n",
              "      <td>2</td>\n",
              "      <td>4</td>\n",
              "      <td>4.377670</td>\n",
              "      <td>4.377670</td>\n",
              "      <td>2.451140</td>\n",
              "      <td>1.487875</td>\n",
              "      <td>1.487875</td>\n",
              "      <td>3.414405</td>\n",
              "      <td>3.414405</td>\n",
              "      <td>2.451140</td>\n",
              "      <td>...</td>\n",
              "      <td>2.451140</td>\n",
              "      <td>2.451140</td>\n",
              "      <td>4.377670</td>\n",
              "      <td>2.451140</td>\n",
              "      <td>3.414405</td>\n",
              "      <td>3.414405</td>\n",
              "      <td>3.414405</td>\n",
              "      <td>2.451140</td>\n",
              "      <td>1.487875</td>\n",
              "      <td>2</td>\n",
              "    </tr>\n",
              "    <tr>\n",
              "      <th>4</th>\n",
              "      <td>2</td>\n",
              "      <td>5</td>\n",
              "      <td>2.947917</td>\n",
              "      <td>4.092021</td>\n",
              "      <td>2.947917</td>\n",
              "      <td>5.236124</td>\n",
              "      <td>2.947917</td>\n",
              "      <td>2.947917</td>\n",
              "      <td>2.947917</td>\n",
              "      <td>4.092021</td>\n",
              "      <td>...</td>\n",
              "      <td>1.803814</td>\n",
              "      <td>2.947917</td>\n",
              "      <td>2.947917</td>\n",
              "      <td>1.803814</td>\n",
              "      <td>2.947917</td>\n",
              "      <td>1.803814</td>\n",
              "      <td>2.947917</td>\n",
              "      <td>2.947917</td>\n",
              "      <td>1.803814</td>\n",
              "      <td>4</td>\n",
              "    </tr>\n",
              "    <tr>\n",
              "      <th>...</th>\n",
              "      <td>...</td>\n",
              "      <td>...</td>\n",
              "      <td>...</td>\n",
              "      <td>...</td>\n",
              "      <td>...</td>\n",
              "      <td>...</td>\n",
              "      <td>...</td>\n",
              "      <td>...</td>\n",
              "      <td>...</td>\n",
              "      <td>...</td>\n",
              "      <td>...</td>\n",
              "      <td>...</td>\n",
              "      <td>...</td>\n",
              "      <td>...</td>\n",
              "      <td>...</td>\n",
              "      <td>...</td>\n",
              "      <td>...</td>\n",
              "      <td>...</td>\n",
              "      <td>...</td>\n",
              "      <td>...</td>\n",
              "      <td>...</td>\n",
              "    </tr>\n",
              "    <tr>\n",
              "      <th>156</th>\n",
              "      <td>47</td>\n",
              "      <td>157</td>\n",
              "      <td>3.047327</td>\n",
              "      <td>3.704946</td>\n",
              "      <td>3.047327</td>\n",
              "      <td>3.704946</td>\n",
              "      <td>3.047327</td>\n",
              "      <td>3.047327</td>\n",
              "      <td>3.704946</td>\n",
              "      <td>3.047327</td>\n",
              "      <td>...</td>\n",
              "      <td>4.362565</td>\n",
              "      <td>3.704946</td>\n",
              "      <td>2.389708</td>\n",
              "      <td>1.732088</td>\n",
              "      <td>1.732088</td>\n",
              "      <td>1.732088</td>\n",
              "      <td>1.732088</td>\n",
              "      <td>1.732088</td>\n",
              "      <td>1.732088</td>\n",
              "      <td>5</td>\n",
              "    </tr>\n",
              "    <tr>\n",
              "      <th>157</th>\n",
              "      <td>47</td>\n",
              "      <td>158</td>\n",
              "      <td>2.652793</td>\n",
              "      <td>1.420226</td>\n",
              "      <td>2.036509</td>\n",
              "      <td>3.885360</td>\n",
              "      <td>3.885360</td>\n",
              "      <td>3.269077</td>\n",
              "      <td>3.885360</td>\n",
              "      <td>3.885360</td>\n",
              "      <td>...</td>\n",
              "      <td>3.885360</td>\n",
              "      <td>3.885360</td>\n",
              "      <td>2.036509</td>\n",
              "      <td>2.652793</td>\n",
              "      <td>2.036509</td>\n",
              "      <td>3.269077</td>\n",
              "      <td>1.420226</td>\n",
              "      <td>2.036509</td>\n",
              "      <td>2.036509</td>\n",
              "      <td>5</td>\n",
              "    </tr>\n",
              "    <tr>\n",
              "      <th>158</th>\n",
              "      <td>47</td>\n",
              "      <td>159</td>\n",
              "      <td>2.635531</td>\n",
              "      <td>4.249938</td>\n",
              "      <td>1.828328</td>\n",
              "      <td>4.249938</td>\n",
              "      <td>4.249938</td>\n",
              "      <td>3.442735</td>\n",
              "      <td>3.442735</td>\n",
              "      <td>3.442735</td>\n",
              "      <td>...</td>\n",
              "      <td>3.442735</td>\n",
              "      <td>3.442735</td>\n",
              "      <td>2.635531</td>\n",
              "      <td>1.828328</td>\n",
              "      <td>1.828328</td>\n",
              "      <td>1.828328</td>\n",
              "      <td>2.635531</td>\n",
              "      <td>1.828328</td>\n",
              "      <td>1.828328</td>\n",
              "      <td>4</td>\n",
              "    </tr>\n",
              "    <tr>\n",
              "      <th>159</th>\n",
              "      <td>47</td>\n",
              "      <td>160</td>\n",
              "      <td>2.833333</td>\n",
              "      <td>2.833333</td>\n",
              "      <td>0.869148</td>\n",
              "      <td>2.833333</td>\n",
              "      <td>2.833333</td>\n",
              "      <td>2.833333</td>\n",
              "      <td>2.833333</td>\n",
              "      <td>2.833333</td>\n",
              "      <td>...</td>\n",
              "      <td>0.869148</td>\n",
              "      <td>2.833333</td>\n",
              "      <td>4.797519</td>\n",
              "      <td>2.833333</td>\n",
              "      <td>2.833333</td>\n",
              "      <td>2.833333</td>\n",
              "      <td>2.833333</td>\n",
              "      <td>2.833333</td>\n",
              "      <td>4.797519</td>\n",
              "      <td>2</td>\n",
              "    </tr>\n",
              "    <tr>\n",
              "      <th>160</th>\n",
              "      <td>47</td>\n",
              "      <td>161</td>\n",
              "      <td>4.201358</td>\n",
              "      <td>2.663634</td>\n",
              "      <td>2.663634</td>\n",
              "      <td>3.432496</td>\n",
              "      <td>4.201358</td>\n",
              "      <td>4.201358</td>\n",
              "      <td>3.432496</td>\n",
              "      <td>2.663634</td>\n",
              "      <td>...</td>\n",
              "      <td>2.663634</td>\n",
              "      <td>2.663634</td>\n",
              "      <td>3.432496</td>\n",
              "      <td>1.894772</td>\n",
              "      <td>2.663634</td>\n",
              "      <td>3.432496</td>\n",
              "      <td>1.894772</td>\n",
              "      <td>1.894772</td>\n",
              "      <td>1.125910</td>\n",
              "      <td>5</td>\n",
              "    </tr>\n",
              "  </tbody>\n",
              "</table>\n",
              "<p>161 rows × 22 columns</p>\n",
              "</div>\n",
              "      <button class=\"colab-df-convert\" onclick=\"convertToInteractive('df-0a342d7f-cd52-4a95-baa6-81db5591cbe4')\"\n",
              "              title=\"Convert this dataframe to an interactive table.\"\n",
              "              style=\"display:none;\">\n",
              "        \n",
              "  <svg xmlns=\"http://www.w3.org/2000/svg\" height=\"24px\"viewBox=\"0 0 24 24\"\n",
              "       width=\"24px\">\n",
              "    <path d=\"M0 0h24v24H0V0z\" fill=\"none\"/>\n",
              "    <path d=\"M18.56 5.44l.94 2.06.94-2.06 2.06-.94-2.06-.94-.94-2.06-.94 2.06-2.06.94zm-11 1L8.5 8.5l.94-2.06 2.06-.94-2.06-.94L8.5 2.5l-.94 2.06-2.06.94zm10 10l.94 2.06.94-2.06 2.06-.94-2.06-.94-.94-2.06-.94 2.06-2.06.94z\"/><path d=\"M17.41 7.96l-1.37-1.37c-.4-.4-.92-.59-1.43-.59-.52 0-1.04.2-1.43.59L10.3 9.45l-7.72 7.72c-.78.78-.78 2.05 0 2.83L4 21.41c.39.39.9.59 1.41.59.51 0 1.02-.2 1.41-.59l7.78-7.78 2.81-2.81c.8-.78.8-2.07 0-2.86zM5.41 20L4 18.59l7.72-7.72 1.47 1.35L5.41 20z\"/>\n",
              "  </svg>\n",
              "      </button>\n",
              "      \n",
              "  <style>\n",
              "    .colab-df-container {\n",
              "      display:flex;\n",
              "      flex-wrap:wrap;\n",
              "      gap: 12px;\n",
              "    }\n",
              "\n",
              "    .colab-df-convert {\n",
              "      background-color: #E8F0FE;\n",
              "      border: none;\n",
              "      border-radius: 50%;\n",
              "      cursor: pointer;\n",
              "      display: none;\n",
              "      fill: #1967D2;\n",
              "      height: 32px;\n",
              "      padding: 0 0 0 0;\n",
              "      width: 32px;\n",
              "    }\n",
              "\n",
              "    .colab-df-convert:hover {\n",
              "      background-color: #E2EBFA;\n",
              "      box-shadow: 0px 1px 2px rgba(60, 64, 67, 0.3), 0px 1px 3px 1px rgba(60, 64, 67, 0.15);\n",
              "      fill: #174EA6;\n",
              "    }\n",
              "\n",
              "    [theme=dark] .colab-df-convert {\n",
              "      background-color: #3B4455;\n",
              "      fill: #D2E3FC;\n",
              "    }\n",
              "\n",
              "    [theme=dark] .colab-df-convert:hover {\n",
              "      background-color: #434B5C;\n",
              "      box-shadow: 0px 1px 3px 1px rgba(0, 0, 0, 0.15);\n",
              "      filter: drop-shadow(0px 1px 2px rgba(0, 0, 0, 0.3));\n",
              "      fill: #FFFFFF;\n",
              "    }\n",
              "  </style>\n",
              "\n",
              "      <script>\n",
              "        const buttonEl =\n",
              "          document.querySelector('#df-0a342d7f-cd52-4a95-baa6-81db5591cbe4 button.colab-df-convert');\n",
              "        buttonEl.style.display =\n",
              "          google.colab.kernel.accessAllowed ? 'block' : 'none';\n",
              "\n",
              "        async function convertToInteractive(key) {\n",
              "          const element = document.querySelector('#df-0a342d7f-cd52-4a95-baa6-81db5591cbe4');\n",
              "          const dataTable =\n",
              "            await google.colab.kernel.invokeFunction('convertToInteractive',\n",
              "                                                     [key], {});\n",
              "          if (!dataTable) return;\n",
              "\n",
              "          const docLinkHtml = 'Like what you see? Visit the ' +\n",
              "            '<a target=\"_blank\" href=https://colab.research.google.com/notebooks/data_table.ipynb>data table notebook</a>'\n",
              "            + ' to learn more about interactive tables.';\n",
              "          element.innerHTML = '';\n",
              "          dataTable['output_type'] = 'display_data';\n",
              "          await google.colab.output.renderOutput(dataTable, element);\n",
              "          const docLink = document.createElement('div');\n",
              "          docLink.innerHTML = docLinkHtml;\n",
              "          element.appendChild(docLink);\n",
              "        }\n",
              "      </script>\n",
              "    </div>\n",
              "  </div>\n",
              "  "
            ]
          },
          "metadata": {},
          "execution_count": 3
        }
      ]
    },
    {
      "cell_type": "markdown",
      "source": [
        "data of iamge 2"
      ],
      "metadata": {
        "id": "YRIM7t2-x6_O"
      }
    },
    {
      "cell_type": "code",
      "source": [
        "df=data_img.loc[data_img['Image'] == 2]\n",
        "print(df)"
      ],
      "metadata": {
        "colab": {
          "base_uri": "https://localhost:8080/"
        },
        "id": "akeG_feCx6bu",
        "outputId": "1a9dc6e2-e2e2-462d-abf6-f825d3e9a5a4"
      },
      "execution_count": 4,
      "outputs": [
        {
          "output_type": "stream",
          "name": "stdout",
          "text": [
            "    Image  Subject   DMOS_PH   DMOS_PA   DMOS_PL   DMOS_BH   DMOS_BA  \\\n",
            "0       2        1  3.120100  1.251787  3.120100  4.054256  3.120100   \n",
            "1       2        2  3.456190  2.048657  1.344891  3.456190  2.752423   \n",
            "2       2        3  3.377778  2.548148  1.718518  1.718518  1.718518   \n",
            "3       2        4  4.377670  4.377670  2.451140  1.487875  1.487875   \n",
            "4       2        5  2.947917  4.092021  2.947917  5.236124  2.947917   \n",
            "5       2        6  2.833333  2.833333  1.591073  2.833333  2.833333   \n",
            "6       2        7  2.548129  1.683268  0.818407  2.548129  2.548129   \n",
            "7       2        8  3.501191  3.501191  1.632878  3.501191  3.501191   \n",
            "8       2        9  3.859066  3.859066  2.092925  2.092925  2.092925   \n",
            "9       2       40  1.893186  1.893186  1.893186  1.893186  3.069224   \n",
            "10      2       11  2.384922  2.384922  1.477385  3.292459  3.292459   \n",
            "11      2       12  2.451019  2.451019  1.588356  3.313682  3.313682   \n",
            "12      2       13  2.587024  1.751489  1.751489  2.587024  1.751489   \n",
            "13      2       14  2.473526  2.473526  3.383623  1.563429  3.383623   \n",
            "14      2       15  3.967356  1.699310  3.967356  3.967356  2.833333   \n",
            "15      2       16  3.684853  2.801782  3.684853  3.684853  3.684853   \n",
            "16      2       17  2.767136  2.767136  2.767136  2.767136  1.453833   \n",
            "17      2       18  2.968669  2.055990  2.055990  3.881347  2.968669   \n",
            "18      2       19  3.017024  3.017024  3.017024  3.884099  3.017024   \n",
            "\n",
            "     DMOS_BL  DMOS_MBH  DMOS_MBA  ...  DMOS_GBA  DMOS_GBL  DMOS_GNH  DMOS_GNA  \\\n",
            "0   2.185943  4.054256  4.054256  ...  4.054256  2.185943  2.185943  2.185943   \n",
            "1   2.752423  4.159956  3.456190  ...  4.159956  4.159956  2.048657  2.752423   \n",
            "2   3.377778  2.548148  2.548148  ...  1.718518  1.718518  4.207408  4.207408   \n",
            "3   3.414405  3.414405  2.451140  ...  2.451140  2.451140  4.377670  2.451140   \n",
            "4   2.947917  2.947917  4.092021  ...  1.803814  2.947917  2.947917  1.803814   \n",
            "5   4.075593  4.075593  4.075593  ...  4.075593  2.833333  1.591073  1.591073   \n",
            "6   4.277851  2.548129  3.412990  ...  4.277851  2.548129  2.548129  3.412990   \n",
            "7   1.632878  3.501191  3.501191  ...  1.632878  1.632878  1.632878  3.501191   \n",
            "8   1.209855  3.859066  2.092925  ...  3.859066  2.975996  3.859066  3.859066   \n",
            "9   3.069224  4.245262  3.069224  ...  4.245262  4.245262  3.069224  3.069224   \n",
            "10  1.477385  3.292459  4.199996  ...  4.199996  4.199996  3.292459  2.384922   \n",
            "11  2.451019  4.176345  3.313682  ...  4.176345  4.176345  2.451019  3.313682   \n",
            "12  1.751489  4.258094  3.422559  ...  4.258094  4.258094  3.422559  2.587024   \n",
            "13  2.473526  1.563429  2.473526  ...  4.293720  1.563429  3.383623  3.383623   \n",
            "14  1.699310  2.833333  2.833333  ...  3.967356  3.967356  2.833333  1.699310   \n",
            "15  3.684853  1.918712  3.684853  ...  3.684853  2.801782  1.918712  1.035641   \n",
            "16  2.767136  2.767136  2.767136  ...  4.080439  4.080439  2.767136  2.767136   \n",
            "17  3.881347  2.055990  2.055990  ...  2.968669  2.055990  2.968669  2.055990   \n",
            "18  2.149948  3.017024  3.884099  ...  3.884099  3.017024  3.884099  2.149948   \n",
            "\n",
            "    DMOS_GNL  DMOS_SPH  DMOS_SPA  DMOS_SPL   DMOS_PN  OR  \n",
            "0   2.185943  3.120100  3.120100  2.185943  1.251787   4  \n",
            "1   2.048657  2.752423  2.752423  2.048657  1.344891   5  \n",
            "2   3.377778  3.377778  2.548148  4.207408  2.548148   2  \n",
            "3   3.414405  3.414405  3.414405  2.451140  1.487875   2  \n",
            "4   2.947917  1.803814  2.947917  2.947917  1.803814   4  \n",
            "5   1.591073  2.833333  2.833333  2.833333  1.591073   3  \n",
            "6   3.412990  3.412990  3.412990  2.548129  1.683268   5  \n",
            "7   1.632878  1.632878  3.501191  3.501191  3.501191   3  \n",
            "8   2.092925  2.092925  2.092925  2.092925  3.859066   4  \n",
            "9   1.893186  3.069224  1.893186  1.893186  1.893186   3  \n",
            "10  1.477385  2.384922  2.384922  3.292459  2.384922   4  \n",
            "11  2.451019  1.588356  1.588356  1.588356  2.451019   4  \n",
            "12  2.587024  2.587024  2.587024  1.751489  2.587024   4  \n",
            "13  3.383623  4.293720  1.563429  3.383623  2.473526   4  \n",
            "14  1.699310  2.833333  2.833333  1.699310  2.833333   3  \n",
            "15  2.801782  2.801782  3.684853  2.801782  3.684853   4  \n",
            "16  2.767136  1.453833  4.080439  1.453833  4.080439   3  \n",
            "17  2.968669  4.794026  2.968669  4.794026  2.055990   1  \n",
            "18  3.017024  1.282872  1.282872  1.282872  2.149948   4  \n",
            "\n",
            "[19 rows x 22 columns]\n"
          ]
        }
      ]
    },
    {
      "cell_type": "markdown",
      "source": [
        "mean of image 2"
      ],
      "metadata": {
        "id": "mTat9C9ix9hG"
      }
    },
    {
      "cell_type": "code",
      "source": [
        "df2 = df[[\"DMOS_PH\",\"DMOS_PA\",\"DMOS_PL\" ,\"DMOS_BH\", \"DMOS_BA\" ,\"DMOS_BL\", \"DMOS_MBH\", \"DMOS_MBA\", \"DMOS_MBL\", \"DMOS_GBH\", \"DMOS_GBA\" ,\"DMOS_GBL\", \"DMOS_GNH\" ,\"DMOS_GNA\" ,\"DMOS_GNL\" ,\"DMOS_SPH\", \"DMOS_SPA\", \"DMOS_SPL\", \"DMOS_PN\" ,\"OR\"]].mean()\n",
        "print(df2)"
      ],
      "metadata": {
        "colab": {
          "base_uri": "https://localhost:8080/"
        },
        "id": "mwQHDQAWx_UO",
        "outputId": "89b84adb-e9d3-4a78-b026-d3bccb0e5e79"
      },
      "execution_count": 5,
      "outputs": [
        {
          "output_type": "stream",
          "name": "stdout",
          "text": [
            "DMOS_PH     3.064005\n",
            "DMOS_PA     2.604765\n",
            "DMOS_PL     2.279171\n",
            "DMOS_BH     3.040164\n",
            "DMOS_BA     2.724769\n",
            "DMOS_BL     2.698941\n",
            "DMOS_MBH    3.222971\n",
            "DMOS_MBA    3.230992\n",
            "DMOS_MBL    2.725198\n",
            "DMOS_GBH    3.609854\n",
            "DMOS_GBA    3.567995\n",
            "DMOS_GBL    3.043133\n",
            "DMOS_GNH    2.915241\n",
            "DMOS_GNA    2.642713\n",
            "DMOS_GNL    2.513196\n",
            "DMOS_SPH    2.712092\n",
            "DMOS_SPA    2.710027\n",
            "DMOS_SPL    2.566189\n",
            "DMOS_PN     2.403440\n",
            "OR          3.473684\n",
            "dtype: float64\n"
          ]
        }
      ]
    },
    {
      "cell_type": "markdown",
      "source": [
        "data of image 4"
      ],
      "metadata": {
        "id": "IucrlvPx0JOf"
      }
    },
    {
      "cell_type": "code",
      "source": [
        "df=data_img.loc[data_img['Image'] == 4]\n",
        "print(df)"
      ],
      "metadata": {
        "colab": {
          "base_uri": "https://localhost:8080/"
        },
        "id": "NPfdH2lk0Krg",
        "outputId": "a0e6a899-4471-4846-ed32-e0364f8fb3a5"
      },
      "execution_count": null,
      "outputs": [
        {
          "output_type": "stream",
          "name": "stdout",
          "text": [
            "    Image  Subject   DMOS_PH   DMOS_PA   DMOS_PL   DMOS_BH   DMOS_BA  \\\n",
            "19      4       20  3.884099  3.884099  3.017024  2.149948  2.149948   \n",
            "20      4       21  4.222222  4.222222  2.833333  4.222222  4.222222   \n",
            "21      4       11  4.300818  4.300818  3.124780  3.124780  3.124780   \n",
            "22      4       23  4.300818  4.300818  3.124780  3.124780  3.124780   \n",
            "23      4       24  2.190913  2.190913  2.190913  2.190913  3.738023   \n",
            "24      4       25  2.975996  2.092925  1.209855  2.092925  2.092925   \n",
            "25      4       26  3.538117  1.691656  1.691656  2.614886  2.614886   \n",
            "26      4       27  3.396303  1.964375  1.248410  4.112267  3.396303   \n",
            "27      4       28  3.773480  2.597442  3.773480  3.773480  2.597442   \n",
            "28      4       29  2.048657  2.752423  1.344891  3.456190  4.159956   \n",
            "29      4       30  4.162062  2.579006  2.579006  4.162062  4.162062   \n",
            "30      4       31  2.908851  2.908851  1.418453  4.399250  4.399250   \n",
            "31      4       32  3.734518  3.734518  2.605436  3.734518  3.734518   \n",
            "32      4       33  4.282102  4.282102  1.860491  3.071297  1.860491   \n",
            "33      4       34  2.694011  2.694011  1.348672  2.021341  2.021341   \n",
            "34      4       35  3.758583  3.758583  3.076372  3.076372  3.758583   \n",
            "\n",
            "     DMOS_BL  DMOS_MBH  DMOS_MBA  ...  DMOS_GBA  DMOS_GBL  DMOS_GNH  DMOS_GNA  \\\n",
            "19  2.149948  3.884099  3.884099  ...  3.884099  3.884099  3.017024  2.149948   \n",
            "20  1.444444  2.833333  1.444444  ...  2.833333  2.833333  2.833333  2.833333   \n",
            "21  3.124780  3.124780  1.948742  ...  3.124780  1.948742  3.124780  3.124780   \n",
            "22  3.124780  3.124780  1.948742  ...  3.124780  1.948742  3.124780  3.124780   \n",
            "23  1.417358  2.964468  3.738023  ...  3.738023  3.738023  3.738023  1.417358   \n",
            "24  2.092925  3.859066  2.092925  ...  3.859066  2.975996  3.859066  3.859066   \n",
            "25  1.691656  4.461347  3.538117  ...  3.538117  2.614886  3.538117  3.538117   \n",
            "26  2.680339  4.112267  1.964375  ...  4.112267  4.112267  3.396303  2.680339   \n",
            "27  1.421404  2.597442  3.773480  ...  3.773480  3.773480  3.773480  2.597442   \n",
            "28  3.456190  2.752423  3.456190  ...  4.159956  4.159956  3.456190  2.048657   \n",
            "29  3.370534  3.370534  2.579006  ...  3.370534  2.579006  3.370534  3.370534   \n",
            "30  1.418453  2.908851  2.908851  ...  2.908851  2.908851  2.908851  2.908851   \n",
            "31  2.605436  3.734518  2.605436  ...  3.734518  3.734518  3.734518  2.605436   \n",
            "32  1.860491  3.071297  3.071297  ...  4.282102  1.860491  3.071297  3.071297   \n",
            "33  1.348672  4.039350  3.366680  ...  4.039350  4.039350  4.039350  3.366680   \n",
            "34  3.758583  3.758583  3.076372  ...  3.758583  3.758583  3.076372  1.711949   \n",
            "\n",
            "    DMOS_GNL  DMOS_SPH  DMOS_SPA  DMOS_SPL   DMOS_PN  OR  \n",
            "19  2.149948  3.017024  2.149948  1.282872  1.282872   4  \n",
            "20  2.833333  2.833333  2.833333  1.444444  2.833333   3  \n",
            "21  1.948742  3.124780  3.124780  1.948742  0.772704   4  \n",
            "22  1.948742  3.124780  3.124780  1.948742  0.772704   4  \n",
            "23  3.738023  2.964468  3.738023  2.190913  1.417358   4  \n",
            "24  2.975996  3.859066  3.859066  2.975996  1.209855   4  \n",
            "25  2.614886  3.538117  3.538117  1.691656  1.691656   5  \n",
            "26  1.964375  2.680339  2.680339  1.964375  1.964375   5  \n",
            "27  1.421404  1.421404  2.597442  1.421404  3.773480   3  \n",
            "28  2.752423  2.752423  2.752423  2.048657  1.344891   5  \n",
            "29  2.579006  2.579006  1.787478  1.787478  1.787478   5  \n",
            "30  2.908851  4.399250  2.908851  1.418453  2.908851   1  \n",
            "31  2.605436  2.605436  2.605436  1.476354  0.347273   5  \n",
            "32  1.860491  3.071297  3.071297  3.071297  1.860491   4  \n",
            "33  2.694011  3.366680  2.694011  2.021341  2.021341   5  \n",
            "34  1.711949  3.076372  2.394161  1.711949  1.029738   5  \n",
            "\n",
            "[16 rows x 22 columns]\n"
          ]
        }
      ]
    },
    {
      "cell_type": "markdown",
      "source": [
        "mean of image 4"
      ],
      "metadata": {
        "id": "-cM1D2w00PCX"
      }
    },
    {
      "cell_type": "code",
      "source": [
        "df2 = df[[\"DMOS_PH\",\"DMOS_PA\",\"DMOS_PL\" ,\"DMOS_BH\", \"DMOS_BA\" ,\"DMOS_BL\", \"DMOS_MBH\", \"DMOS_MBA\", \"DMOS_MBL\", \"DMOS_GBH\", \"DMOS_GBA\" ,\"DMOS_GBL\", \"DMOS_GNH\" ,\"DMOS_GNA\" ,\"DMOS_GNL\" ,\"DMOS_SPH\", \"DMOS_SPA\", \"DMOS_SPL\", \"DMOS_PN\" ,\"OR\"]].mean()\n",
        "print(df2)"
      ],
      "metadata": {
        "colab": {
          "base_uri": "https://localhost:8080/"
        },
        "id": "gYhRvJ6b0O3e",
        "outputId": "88e98569-f7fb-41af-dec6-63a80f39b98b"
      },
      "execution_count": null,
      "outputs": [
        {
          "output_type": "stream",
          "name": "stdout",
          "text": [
            "DMOS_PH     3.510722\n",
            "DMOS_PA     3.122173\n",
            "DMOS_PL     2.277972\n",
            "DMOS_BH     3.207952\n",
            "DMOS_BA     3.197344\n",
            "DMOS_BL     2.310375\n",
            "DMOS_MBH    3.412321\n",
            "DMOS_MBA    2.837299\n",
            "DMOS_MBL    2.403978\n",
            "DMOS_GBH    3.727640\n",
            "DMOS_GBA    3.640115\n",
            "DMOS_GBL    3.179395\n",
            "DMOS_GNH    3.378876\n",
            "DMOS_GNA    2.775535\n",
            "DMOS_GNL    2.419226\n",
            "DMOS_SPH    3.025861\n",
            "DMOS_SPA    2.866218\n",
            "DMOS_SPL    1.900292\n",
            "DMOS_PN     1.688650\n",
            "OR          4.125000\n",
            "dtype: float64\n"
          ]
        }
      ]
    },
    {
      "cell_type": "markdown",
      "source": [
        "data of image 16"
      ],
      "metadata": {
        "id": "uUGBFkYE0cnf"
      }
    },
    {
      "cell_type": "code",
      "source": [
        "df=data_img.loc[data_img['Image'] == 16]\n",
        "print(df)"
      ],
      "metadata": {
        "colab": {
          "base_uri": "https://localhost:8080/"
        },
        "id": "l-0Balye0fDm",
        "outputId": "a599e46f-77c0-4539-c25c-caff1e5adb4a"
      },
      "execution_count": null,
      "outputs": [
        {
          "output_type": "stream",
          "name": "stdout",
          "text": [
            "    Image  Subject   DMOS_PH   DMOS_PA   DMOS_PL   DMOS_BH   DMOS_BA  \\\n",
            "35     16       36  3.175655  2.241499  3.175655  3.175655  2.241499   \n",
            "36     16       37  2.892898  2.892898  2.892898  1.705606  4.080191   \n",
            "37     16       38  3.862853  2.718749  2.718749  1.574646  1.574646   \n",
            "38     16       39  1.774982  1.774982  2.536209  3.297435  2.536209   \n",
            "39     16       40  1.809752  3.672529  1.809752  3.672529  2.741140   \n",
            "40     16       41  2.899531  1.586228  2.899531  2.899531  2.899531   \n",
            "41     16       42  1.029836  2.091782  2.091782  3.153729  2.091782   \n",
            "42     16       43  3.929697  1.800337  2.510124  3.929697  3.929697   \n",
            "43     16       44  1.247344  1.935035  1.935035  1.935035  3.998109   \n",
            "44     16       45  2.428969  1.605120  1.605120  3.252817  4.076666   \n",
            "45     16       46  3.024224  2.111545  3.024224  3.936903  3.936903   \n",
            "46     16       47  2.290348  3.205630  3.205630  3.205630  2.290348   \n",
            "47     16       48  3.496641  3.496641  3.496641  3.496641  3.496641   \n",
            "48     16       49  2.311711  1.342291  4.250551  3.281131  3.281131   \n",
            "49     16       50  3.678962  3.678962  2.549881  3.678962  2.549881   \n",
            "\n",
            "     DMOS_BL  DMOS_MBH  DMOS_MBA  ...  DMOS_GBA  DMOS_GBL  DMOS_GNH  DMOS_GNA  \\\n",
            "35  3.175655  4.109812  4.109812  ...  4.109812  4.109812  3.175655  2.241499   \n",
            "36  2.892898  4.080191  2.892898  ...  4.080191  4.080191  1.705606  1.705606   \n",
            "37  3.862853  3.862853  3.862853  ...  3.862853  3.862853  2.718749  2.718749   \n",
            "38  1.774982  4.058662  3.297435  ...  4.058662  4.058662  3.297435  2.536209   \n",
            "39  3.672529  1.809752  1.809752  ...  1.809752  2.741140  3.672529  4.603918   \n",
            "40  2.899531  2.899531  4.212833  ...  4.212833  4.212833  1.586228  2.899531   \n",
            "41  2.091782  4.215675  3.153729  ...  4.215675  4.215675  3.153729  3.153729   \n",
            "42  3.219910  3.929697  2.510124  ...  3.929697  3.219910  1.800337  3.219910   \n",
            "43  3.310418  3.998109  3.998109  ...  3.998109  3.998109  3.310418  3.310418   \n",
            "44  2.428969  4.076666  4.076666  ...  4.076666  3.252817  1.605120  2.428969   \n",
            "45  3.936903  3.936903  3.024224  ...  3.936903  3.936903  2.111545  2.111545   \n",
            "46  1.375065  4.120913  3.205630  ...  4.120913  4.120913  1.375065  2.290348   \n",
            "47  1.286023  3.496641  3.496641  ...  3.496641  3.496641  2.391332  3.496641   \n",
            "48  1.342291  3.281131  2.311711  ...  4.250551  3.281131  2.311711  3.281131   \n",
            "49  1.420799  3.678962  3.678962  ...  3.678962  3.678962  2.549881  1.420799   \n",
            "\n",
            "    DMOS_GNL  DMOS_SPH  DMOS_SPA  DMOS_SPL   DMOS_PN  OR  \n",
            "35  2.241499  2.241499  2.241499  1.307342  1.307342   5  \n",
            "36  1.705606  1.705606  2.892898  2.892898  2.892898   3  \n",
            "37  1.574646  2.718749  1.574646  1.574646  2.718749   3  \n",
            "38  2.536209  2.536209  2.536209  1.774982  1.774982   5  \n",
            "39  2.741140  1.809752  3.672529  1.809752  2.741140   1  \n",
            "40  1.586228  2.899531  2.899531  1.586228  1.586228   3  \n",
            "41  2.091782  3.153729  2.091782  2.091782  3.153729   4  \n",
            "42  1.090550  1.800337  3.219910  1.800337  2.510124   5  \n",
            "43  2.622727  2.622727  2.622727  1.935035  1.935035   5  \n",
            "44  1.605120  2.428969  3.252817  3.252817  2.428969   4  \n",
            "45  2.111545  2.111545  2.111545  2.111545  1.198867   4  \n",
            "46  2.290348  3.205630  3.205630  2.290348  1.375065   4  \n",
            "47  3.496641  1.286023  2.391332  1.286023  1.286023   3  \n",
            "48  3.281131  4.250551  2.311711  2.311711  2.311711   5  \n",
            "49  1.420799  3.678962  2.549881  2.549881  1.420799   4  \n",
            "\n",
            "[15 rows x 22 columns]\n"
          ]
        }
      ]
    },
    {
      "cell_type": "markdown",
      "source": [
        "mean of image 16"
      ],
      "metadata": {
        "id": "_DttfMI30mte"
      }
    },
    {
      "cell_type": "code",
      "source": [
        "df2 = df[[\"DMOS_PH\",\"DMOS_PA\",\"DMOS_PL\" ,\"DMOS_BH\", \"DMOS_BA\" ,\"DMOS_BL\", \"DMOS_MBH\", \"DMOS_MBA\", \"DMOS_MBL\", \"DMOS_GBH\", \"DMOS_GBA\" ,\"DMOS_GBL\", \"DMOS_GNH\" ,\"DMOS_GNA\" ,\"DMOS_GNL\" ,\"DMOS_SPH\", \"DMOS_SPA\", \"DMOS_SPL\", \"DMOS_PN\" ,\"OR\"]].mean()\n",
        "print(df2)"
      ],
      "metadata": {
        "colab": {
          "base_uri": "https://localhost:8080/"
        },
        "id": "6rcxyOS-0ohO",
        "outputId": "2b1a91b1-6734-4305-8b5e-bd5b4b407d59"
      },
      "execution_count": null,
      "outputs": [
        {
          "output_type": "stream",
          "name": "stdout",
          "text": [
            "DMOS_PH     2.656893\n",
            "DMOS_PA     2.410282\n",
            "DMOS_PL     2.713452\n",
            "DMOS_BH     3.079730\n",
            "DMOS_BA     3.048291\n",
            "DMOS_BL     2.579374\n",
            "DMOS_MBH    3.703700\n",
            "DMOS_MBA    3.309425\n",
            "DMOS_MBL    2.839601\n",
            "DMOS_GBH    4.030815\n",
            "DMOS_GBA    3.855881\n",
            "DMOS_GBL    3.751104\n",
            "DMOS_GNH    2.451023\n",
            "DMOS_GNA    2.761267\n",
            "DMOS_GNL    2.159731\n",
            "DMOS_SPH    2.563321\n",
            "DMOS_SPA    2.638310\n",
            "DMOS_SPL    2.038355\n",
            "DMOS_PN     2.042777\n",
            "OR          3.866667\n",
            "dtype: float64\n"
          ]
        }
      ]
    },
    {
      "cell_type": "markdown",
      "source": [
        "data of image 18"
      ],
      "metadata": {
        "id": "YBEGFm1J00f_"
      }
    },
    {
      "cell_type": "code",
      "source": [
        "df=data_img.loc[data_img['Image'] == 18]\n",
        "print(df)"
      ],
      "metadata": {
        "colab": {
          "base_uri": "https://localhost:8080/"
        },
        "id": "xJeB4x2802Nn",
        "outputId": "7857dc4c-bfe8-4894-8f1a-7c39f4129454"
      },
      "execution_count": null,
      "outputs": [
        {
          "output_type": "stream",
          "name": "stdout",
          "text": [
            "    Image  Subject   DMOS_PH   DMOS_PA   DMOS_PL   DMOS_BH   DMOS_BA  \\\n",
            "50     18       51  3.754074  1.949112  1.949112  3.754074  3.754074   \n",
            "51     18       52  1.568114  4.383179  2.975647  1.568114  1.568114   \n",
            "52     18       53  4.194996  3.225576  2.256156  2.256156  2.256156   \n",
            "53     18       54  3.629287  1.510819  2.216975  2.216975  1.510819   \n",
            "54     18       55  2.548148  1.718518  1.718518  2.548148  2.548148   \n",
            "55     18       56  2.899531  2.899531  2.899531  2.899531  1.586228   \n",
            "56     18       57  3.778107  2.515755  2.515755  3.778107  3.778107   \n",
            "57     18       58  2.256156  2.256156  1.286736  3.225576  3.225576   \n",
            "58     18       59  3.174074  2.344444  1.514814  4.003704  4.003704   \n",
            "59     18       60  3.961060  3.961060  1.586476  3.961060  2.773768   \n",
            "60     18       61  1.845243  1.845243  2.511770  3.178296  3.178296   \n",
            "61     18       62  2.888889  2.888889  1.754866  4.022912  4.022912   \n",
            "62     18       63  4.393045  1.796806  3.094926  3.094926  1.796806   \n",
            "63     18       64  1.718518  2.548148  1.718518  2.548148  2.548148   \n",
            "64     18       65  2.762574  2.762574  1.507027  2.762574  1.507027   \n",
            "65     18       66  3.317852  3.317852  1.727987  4.907717  3.317852   \n",
            "66     18       67  4.248214  4.248214  4.248214  2.757815  2.757815   \n",
            "67     18       68  1.970261  1.970261  1.970261  3.206034  3.206034   \n",
            "68     18       69  3.236709  1.657024  2.446867  4.026551  3.236709   \n",
            "\n",
            "     DMOS_BL  DMOS_MBH  DMOS_MBA  ...  DMOS_GBA  DMOS_GBL  DMOS_GNH  DMOS_GNA  \\\n",
            "50  3.754074  3.754074  3.754074  ...  3.754074  3.754074  1.949112  1.949112   \n",
            "51  1.568114  2.975647  2.975647  ...  1.568114  2.975647  2.975647  2.975647   \n",
            "52  2.256156  4.194996  3.225576  ...  3.225576  3.225576  3.225576  2.256156   \n",
            "53  1.510819  3.629287  3.629287  ...  4.335443  4.335443  2.923131  2.923131   \n",
            "54  2.548148  4.207408  3.377778  ...  4.207408  4.207408  2.548148  2.548148   \n",
            "55  1.586228  2.899531  4.212833  ...  4.212833  4.212833  2.899531  2.899531   \n",
            "56  1.253404  2.515755  3.778107  ...  3.778107  3.778107  2.515755  2.515755   \n",
            "57  2.256156  3.225576  4.194996  ...  4.194996  4.194996  3.225576  1.286736   \n",
            "58  2.344444  4.003704  3.174074  ...  4.003704  4.003704  2.344444  1.514814   \n",
            "59  2.773768  3.961060  2.773768  ...  2.773768  2.773768  1.586476  2.773768   \n",
            "60  2.511770  4.511349  3.844822  ...  3.844822  4.511349  2.511770  1.845243   \n",
            "61  1.754866  4.022912  2.888889  ...  4.022912  4.022912  2.888889  2.888889   \n",
            "62  3.094926  1.796806  1.796806  ...  4.393045  3.094926  1.796806  1.796806   \n",
            "63  2.548148  4.207408  3.377778  ...  5.037038  3.377778  3.377778  2.548148   \n",
            "64  2.762574  4.018121  2.762574  ...  2.762574  2.762574  4.018121  4.018121   \n",
            "65  3.317852  3.317852  1.727987  ...  3.317852  3.317852  1.727987  1.727987   \n",
            "66  2.757815  2.757815  2.757815  ...  4.248214  2.757815  2.757815  2.757815   \n",
            "67  1.970261  1.970261  3.206034  ...  3.206034  1.970261  4.441807  4.441807   \n",
            "68  2.446867  4.026551  3.236709  ...  4.026551  4.026551  3.236709  3.236709   \n",
            "\n",
            "    DMOS_GNL  DMOS_SPH  DMOS_SPA  DMOS_SPL   DMOS_PN  OR  \n",
            "50  1.949112  1.949112  1.949112  1.949112  1.949112   2  \n",
            "51  2.975647  2.975647  2.975647  4.383179  4.383179   2  \n",
            "52  1.286736  2.256156  4.194996  2.256156  1.286736   4  \n",
            "53  2.923131  2.923131  2.923131  2.216975  2.216975   5  \n",
            "54  1.718518  3.377778  1.718518  1.718518  3.377778   4  \n",
            "55  2.899531  2.899531  1.586228  1.586228  1.586228   3  \n",
            "56  2.515755  3.778107  2.515755  1.253404  1.253404   3  \n",
            "57  2.256156  3.225576  3.225576  2.256156  2.256156   4  \n",
            "58  2.344444  1.514814  2.344444  2.344444  2.344444   4  \n",
            "59  1.586476  2.773768  1.586476  2.773768  3.961060   3  \n",
            "60  3.178296  2.511770  1.845243  1.845243  1.845243   5  \n",
            "61  1.754866  2.888889  2.888889  1.754866  1.754866   4  \n",
            "62  3.094926  3.094926  3.094926  1.796806  3.094926   3  \n",
            "63  2.548148  2.548148  3.377778  2.548148  1.718518   5  \n",
            "64  2.762574  4.018121  4.018121  1.507027  2.762574   5  \n",
            "65  1.727987  3.317852  1.727987  3.317852  1.727987   4  \n",
            "66  1.267417  2.757815  2.757815  1.267417  2.757815   3  \n",
            "67  3.206034  1.970261  1.970261  3.206034  1.970261   3  \n",
            "68  1.657024  1.657024  2.446867  1.657024  1.657024   4  \n",
            "\n",
            "[19 rows x 22 columns]\n"
          ]
        }
      ]
    },
    {
      "cell_type": "markdown",
      "source": [
        "mean of image 18"
      ],
      "metadata": {
        "id": "eVUSwC_U1AbV"
      }
    },
    {
      "cell_type": "code",
      "source": [
        "df2 = df[[\"DMOS_PH\",\"DMOS_PA\",\"DMOS_PL\" ,\"DMOS_BH\", \"DMOS_BA\" ,\"DMOS_BL\", \"DMOS_MBH\", \"DMOS_MBA\", \"DMOS_MBL\", \"DMOS_GBH\", \"DMOS_GBA\" ,\"DMOS_GBL\", \"DMOS_GNH\" ,\"DMOS_GNA\" ,\"DMOS_GNL\" ,\"DMOS_SPH\", \"DMOS_SPA\", \"DMOS_SPL\", \"DMOS_PN\" ,\"OR\"]].mean()\n",
        "print(df2)"
      ],
      "metadata": {
        "colab": {
          "base_uri": "https://localhost:8080/"
        },
        "id": "TqGgfY6B0zhv",
        "outputId": "1ac5cfa5-26d0-48d8-dcef-444741cf3657"
      },
      "execution_count": null,
      "outputs": [
        {
          "output_type": "stream",
          "name": "stdout",
          "text": [
            "DMOS_PH     3.060255\n",
            "DMOS_PA     2.621008\n",
            "DMOS_PL     2.205271\n",
            "DMOS_BH     3.195601\n",
            "DMOS_BA     2.767173\n",
            "DMOS_BL     2.369284\n",
            "DMOS_MBH    3.473480\n",
            "DMOS_MBA    3.194503\n",
            "DMOS_MBL    2.546055\n",
            "DMOS_GBH    3.928874\n",
            "DMOS_GBA    3.732267\n",
            "DMOS_GBL    3.542293\n",
            "DMOS_GNH    2.786899\n",
            "DMOS_GNA    2.573912\n",
            "DMOS_GNL    2.297515\n",
            "DMOS_SPH    2.759917\n",
            "DMOS_SPA    2.586725\n",
            "DMOS_SPL    2.191492\n",
            "DMOS_PN     2.310752\n",
            "OR          3.684211\n",
            "dtype: float64\n"
          ]
        }
      ]
    },
    {
      "cell_type": "markdown",
      "source": [
        "data of image 19"
      ],
      "metadata": {
        "id": "OiqHgLc-1oyJ"
      }
    },
    {
      "cell_type": "code",
      "source": [
        "df=data_img.loc[data_img['Image'] == 19]\n",
        "print(df)"
      ],
      "metadata": {
        "colab": {
          "base_uri": "https://localhost:8080/"
        },
        "id": "XIWXW7aM1qeB",
        "outputId": "ce40d0f3-9a95-438b-b099-761d0b5b919c"
      },
      "execution_count": null,
      "outputs": [
        {
          "output_type": "stream",
          "name": "stdout",
          "text": [
            "    Image  Subject   DMOS_PH   DMOS_PA   DMOS_PL   DMOS_BH   DMOS_BA  \\\n",
            "69     19       70  1.601432  4.189422  2.464095  3.326759  1.601432   \n",
            "70     19       71  2.548129  1.683268  1.683268  2.548129  1.683268   \n",
            "71     19       72  2.587024  1.751489  1.751489  2.587024  2.587024   \n",
            "72     19       73  3.942508  1.744070  2.476882  2.476882  3.209695   \n",
            "73     19       74  2.899531  1.586228  4.212833  2.899531  2.899531   \n",
            "74     19       75  1.857038  1.857038  3.662000  1.857038  3.662000   \n",
            "75     19       76  3.496641  2.391332  2.391332  2.391332  2.391332   \n",
            "76     19       77  3.311605  3.311605  3.311605  3.311605  4.665326   \n",
            "77     19       78  2.429763  1.522226  2.429763  1.522226  2.429763   \n",
            "78     19       79  1.471988  1.471988  2.823599  4.175211  2.147794   \n",
            "79     19       80  2.429763  1.522226  4.244837  3.337300  2.429763   \n",
            "80     19       81  3.460655  1.454989  2.792099  2.123544  2.792099   \n",
            "81     19       82  1.889872  1.889872  4.109759  1.889872  1.889872   \n",
            "82     19       83  3.398330  2.598207  2.598207  3.398330  2.598207   \n",
            "83     19       84  1.253404  2.515755  3.778107  2.515755  1.253404   \n",
            "84     19       85  3.474929  2.019924  1.292422  2.747426  2.747426   \n",
            "85     19       86  3.606373  2.921985  2.237598  2.921985  2.237598   \n",
            "\n",
            "     DMOS_BL  DMOS_MBH  DMOS_MBA  ...  DMOS_GBA  DMOS_GBL  DMOS_GNH  DMOS_GNA  \\\n",
            "69  3.326759  3.326759  3.326759  ...  4.189422  4.189422  2.464095  2.464095   \n",
            "70  1.683268  2.548129  2.548129  ...  4.277851  3.412990  4.277851  3.412990   \n",
            "71  3.422559  4.258094  3.422559  ...  4.258094  4.258094  2.587024  2.587024   \n",
            "72  3.209695  3.209695  2.476882  ...  4.675320  3.942508  2.476882  2.476882   \n",
            "73  1.586228  4.212833  2.899531  ...  4.212833  2.899531  2.899531  2.899531   \n",
            "74  3.662000  3.662000  3.662000  ...  3.662000  3.662000  3.662000  1.857038   \n",
            "75  2.391332  3.496641  4.601950  ...  2.391332  2.391332  2.391332  2.391332   \n",
            "76  1.957884  1.957884  1.957884  ...  1.957884  1.957884  4.665326  1.957884   \n",
            "77  2.429763  4.244837  3.337300  ...  4.244837  4.244837  2.429763  3.337300   \n",
            "78  1.471988  4.175211  2.823599  ...  4.175211  3.499405  2.823599  2.823599   \n",
            "79  2.429763  3.337300  2.429763  ...  4.244837  3.337300  2.429763  2.429763   \n",
            "80  1.454989  4.129210  3.460655  ...  4.129210  3.460655  3.460655  2.792099   \n",
            "81  1.889872  4.109759  2.999816  ...  4.109759  2.999816  4.109759  2.999816   \n",
            "82  1.798084  4.198452  3.398330  ...  4.198452  4.198452  2.598207  2.598207   \n",
            "83  3.778107  3.778107  3.778107  ...  3.778107  3.778107  2.515755  1.253404   \n",
            "84  2.019924  3.474929  4.202431  ...  4.202431  4.202431  2.747426  2.747426   \n",
            "85  1.553210  3.606373  3.606373  ...  4.290761  4.290761  2.921985  2.237598   \n",
            "\n",
            "    DMOS_GNL  DMOS_SPH  DMOS_SPA  DMOS_SPL   DMOS_PN  OR  \n",
            "69  2.464095  3.326759  2.464095  1.601432  1.601432   5  \n",
            "70  3.412990  4.277851  3.412990  2.548129  2.548129   5  \n",
            "71  1.751489  2.587024  2.587024  1.751489  1.751489   4  \n",
            "72  2.476882  2.476882  1.744070  1.744070  1.744070   5  \n",
            "73  1.586228  1.586228  1.586228  2.899531  2.899531   3  \n",
            "74  1.857038  1.857038  3.662000  1.857038  1.857038   2  \n",
            "75  2.391332  2.391332  4.601950  3.496641  1.286023   4  \n",
            "76  3.311605  3.311605  1.957884  3.311605  3.311605   1  \n",
            "77  3.337300  2.429763  2.429763  2.429763  1.522226   4  \n",
            "78  3.499405  2.823599  2.823599  2.147794  2.147794   5  \n",
            "79  2.429763  2.429763  2.429763  2.429763  1.522226   5  \n",
            "80  3.460655  2.792099  1.454989  1.454989  2.792099   5  \n",
            "81  2.999816  2.999816  1.889872  1.889872  1.889872   3  \n",
            "82  1.798084  3.398330  1.798084  1.798084  1.798084   4  \n",
            "83  2.515755  2.515755  2.515755  3.778107  2.515755   3  \n",
            "84  2.019924  3.474929  2.747426  2.747426  1.292422   5  \n",
            "85  2.921985  1.553210  2.237598  1.553210  2.237598   5  \n",
            "\n",
            "[17 rows x 22 columns]\n"
          ]
        }
      ]
    },
    {
      "cell_type": "markdown",
      "source": [
        "mean of image 19"
      ],
      "metadata": {
        "id": "AgVdT9OS1tuu"
      }
    },
    {
      "cell_type": "code",
      "source": [
        "df2 = df[[\"DMOS_PH\",\"DMOS_PA\",\"DMOS_PL\" ,\"DMOS_BH\", \"DMOS_BA\" ,\"DMOS_BL\", \"DMOS_MBH\", \"DMOS_MBA\", \"DMOS_MBL\", \"DMOS_GBH\", \"DMOS_GBA\" ,\"DMOS_GBL\", \"DMOS_GNH\" ,\"DMOS_GNA\" ,\"DMOS_GNL\" ,\"DMOS_SPH\", \"DMOS_SPA\", \"DMOS_SPL\", \"DMOS_PN\" ,\"OR\"]].mean()\n",
        "print(df2)"
      ],
      "metadata": {
        "colab": {
          "base_uri": "https://localhost:8080/"
        },
        "id": "05Ipzu911wsG",
        "outputId": "b91bb9d0-49ab-42ed-a789-e6c7bb285cad"
      },
      "execution_count": null,
      "outputs": [
        {
          "output_type": "stream",
          "name": "stdout",
          "text": [
            "DMOS_PH     2.685823\n",
            "DMOS_PA     2.143037\n",
            "DMOS_PL     2.838817\n",
            "DMOS_BH     2.707644\n",
            "DMOS_BA     2.542678\n",
            "DMOS_BL     2.356790\n",
            "DMOS_MBH    3.630954\n",
            "DMOS_MBA    3.231298\n",
            "DMOS_MBL    2.877355\n",
            "DMOS_GBH    4.124500\n",
            "DMOS_GBA    3.941079\n",
            "DMOS_GBL    3.572090\n",
            "DMOS_GNH    3.027115\n",
            "DMOS_GNA    2.545058\n",
            "DMOS_GNL    2.602020\n",
            "DMOS_SPH    2.719528\n",
            "DMOS_SPA    2.490770\n",
            "DMOS_SPL    2.319938\n",
            "DMOS_PN     2.042200\n",
            "OR          4.000000\n",
            "dtype: float64\n"
          ]
        }
      ]
    },
    {
      "cell_type": "markdown",
      "source": [
        "data of image 20"
      ],
      "metadata": {
        "id": "IhgdQY7o18w-"
      }
    },
    {
      "cell_type": "code",
      "source": [
        "df=data_img.loc[data_img['Image'] == 20]\n",
        "print(df)"
      ],
      "metadata": {
        "colab": {
          "base_uri": "https://localhost:8080/"
        },
        "id": "JaoYaijF1_Gm",
        "outputId": "ba4a4c64-57f5-4706-9833-23152b713908"
      },
      "execution_count": null,
      "outputs": [
        {
          "output_type": "stream",
          "name": "stdout",
          "text": [
            "    Image  Subject   DMOS_PH   DMOS_PA   DMOS_PL   DMOS_BH   DMOS_BA  \\\n",
            "86     20       87  2.506575  2.506575  2.506575  3.369238  3.369238   \n",
            "87     20       88  3.832924  2.282646  2.282646  3.832924  2.282646   \n",
            "88     20       89  3.042662  3.042662  3.042662  4.031280  3.042662   \n",
            "89     20       90  3.148011  2.271903  2.271903  3.148011  2.271903   \n",
            "90     20       91  2.722407  2.722407  3.832350  3.832350  3.832350   \n",
            "91     20       92  3.794979  3.794979  2.415138  3.794979  3.794979   \n",
            "92     20       93  1.570370  2.400000  1.570370  3.229630  4.059260   \n",
            "93     20       94  2.018519  2.944444  1.092593  3.870370  3.870370   \n",
            "94     20       95  3.004010  3.004010  3.004010  3.004010  4.191302   \n",
            "95     20       96  1.495676  3.917286  1.495676  2.706481  2.706481   \n",
            "\n",
            "     DMOS_BL  DMOS_MBH  DMOS_MBA  ...  DMOS_GBA  DMOS_GBL  DMOS_GNH  DMOS_GNA  \\\n",
            "86  1.643912  4.231901  3.369238  ...  4.231901  4.231901  2.506575  2.506575   \n",
            "87  0.732369  3.832924  3.832924  ...  3.832924  3.832924  2.282646  2.282646   \n",
            "88  1.065425  4.031280  3.042662  ...  4.031280  4.031280  3.042662  3.042662   \n",
            "89  2.271903  4.024119  4.024119  ...  4.024119  4.024119  3.148011  2.271903   \n",
            "90  3.832350  3.832350  2.722407  ...  3.832350  3.832350  2.722407  1.612463   \n",
            "91  3.794979  1.035297  2.415138  ...  3.794979  2.415138  2.415138  2.415138   \n",
            "92  2.400000  4.059260  3.229630  ...  4.059260  4.059260  3.229630  3.229630   \n",
            "93  2.018519  3.870370  3.870370  ...  3.870370  3.870370  2.944444  2.944444   \n",
            "94  3.004010  3.004010  4.191302  ...  4.191302  4.191302  3.004010  1.816717   \n",
            "95  2.706481  3.917286  3.917286  ...  3.917286  3.917286  3.917286  2.706481   \n",
            "\n",
            "    DMOS_GNL  DMOS_SPH  DMOS_SPA  DMOS_SPL   DMOS_PN  OR  \n",
            "86  2.506575  3.369238  1.643912  1.643912  1.643912   5  \n",
            "87  2.282646  2.282646  2.282646  2.282646  2.282646   3  \n",
            "88  2.054043  3.042662  2.054043  2.054043  1.065425   5  \n",
            "89  2.271903  2.271903  2.271903  1.395795  1.395795   4  \n",
            "90  1.612463  2.722407  1.612463  1.612463  1.612463   4  \n",
            "91  3.794979  2.415138  2.415138  2.415138  1.035297   3  \n",
            "92  3.229630  3.229630  2.400000  1.570370  2.400000   5  \n",
            "93  2.944444  2.018519  2.018519  2.018519  2.018519   5  \n",
            "94  1.816717  1.816717  1.816717  1.816717  1.816717   5  \n",
            "95  2.706481  2.706481  1.495676  2.706481  1.495676   4  \n",
            "\n",
            "[10 rows x 22 columns]\n"
          ]
        }
      ]
    },
    {
      "cell_type": "markdown",
      "source": [
        "mean of iamge 20"
      ],
      "metadata": {
        "id": "MG-kZgV52AbQ"
      }
    },
    {
      "cell_type": "code",
      "source": [
        "df2 = df[[\"DMOS_PH\",\"DMOS_PA\",\"DMOS_PL\" ,\"DMOS_BH\", \"DMOS_BA\" ,\"DMOS_BL\", \"DMOS_MBH\", \"DMOS_MBA\", \"DMOS_MBL\", \"DMOS_GBH\", \"DMOS_GBA\" ,\"DMOS_GBL\", \"DMOS_GNH\" ,\"DMOS_GNA\" ,\"DMOS_GNL\" ,\"DMOS_SPH\", \"DMOS_SPA\", \"DMOS_SPL\", \"DMOS_PN\" ,\"OR\"]].mean()\n",
        "print(df2)"
      ],
      "metadata": {
        "colab": {
          "base_uri": "https://localhost:8080/"
        },
        "id": "oXPjX6Yq17uW",
        "outputId": "9898264f-28db-4d15-fb4a-a17b192a9508"
      },
      "execution_count": null,
      "outputs": [
        {
          "output_type": "stream",
          "name": "stdout",
          "text": [
            "DMOS_PH     2.713613\n",
            "DMOS_PA     2.888691\n",
            "DMOS_PL     2.351392\n",
            "DMOS_BH     3.481927\n",
            "DMOS_BA     3.342119\n",
            "DMOS_BL     2.346995\n",
            "DMOS_MBH    3.583880\n",
            "DMOS_MBA    3.461507\n",
            "DMOS_MBL    3.174501\n",
            "DMOS_GBH    3.859848\n",
            "DMOS_GBA    3.978577\n",
            "DMOS_GBL    3.840593\n",
            "DMOS_GNH    2.921281\n",
            "DMOS_GNA    2.482866\n",
            "DMOS_GNL    2.521988\n",
            "DMOS_SPH    2.587534\n",
            "DMOS_SPA    2.001102\n",
            "DMOS_SPL    1.951608\n",
            "DMOS_PN     1.676645\n",
            "OR          4.300000\n",
            "dtype: float64\n"
          ]
        }
      ]
    },
    {
      "cell_type": "markdown",
      "source": [
        "data of image 24"
      ],
      "metadata": {
        "id": "xYGcCaA11OWW"
      }
    },
    {
      "cell_type": "code",
      "source": [
        "df=data_img.loc[data_img['Image'] == 24]\n",
        "print(df)"
      ],
      "metadata": {
        "colab": {
          "base_uri": "https://localhost:8080/"
        },
        "id": "b4Ee4zel1QoA",
        "outputId": "4827d471-2762-4ca2-9cd0-b0105a0ed544"
      },
      "execution_count": null,
      "outputs": [
        {
          "output_type": "stream",
          "name": "stdout",
          "text": [
            "     Image  Subject   DMOS_PH   DMOS_PA   DMOS_PL   DMOS_BH   DMOS_BA  \\\n",
            "96      24       97  2.762574  2.762574  2.762574  1.507027  1.507027   \n",
            "97      24       98  3.850534  3.850534  2.470694  1.090853  3.850534   \n",
            "98      24       99  2.888889  2.888889  2.888889  3.870982  3.870982   \n",
            "99      24      100  3.517039  1.310504  1.310504  2.046016  2.781527   \n",
            "100     24      101  2.429763  1.522226  2.429763  2.429763  3.337300   \n",
            "101     24      102  2.460358  2.460358  1.500127  3.420589  2.460358   \n",
            "102     24      103  2.239055  2.239055  1.519306  1.519306  2.239055   \n",
            "103     24      104  4.022912  2.888889  2.888889  2.888889  2.888889   \n",
            "104     24      105  4.252551  2.781527  3.517039  4.252551  4.252551   \n",
            "105     24      106  4.059260  3.229630  3.229630  4.059260  4.059260   \n",
            "106     24      107  3.372310  3.372310  3.372310  4.589215  4.589215   \n",
            "107     24      108  2.533530  2.533530  1.664222  3.402837  2.533530   \n",
            "108     24      109  3.315061  3.315061  2.555334  3.315061  4.074788   \n",
            "109     24      110  1.758546  0.998819  0.998819  3.277999  3.277999   \n",
            "110     24      111  3.080910  3.080910  0.969611  3.784676  3.784676   \n",
            "111     24      112  4.249516  2.741887  1.988073  3.495701  1.988073   \n",
            "112     24      113  3.254328  3.254328  2.462799  2.462799  1.671271   \n",
            "\n",
            "      DMOS_BL  DMOS_MBH  DMOS_MBA  ...  DMOS_GBA  DMOS_GBL  DMOS_GNH  \\\n",
            "96   1.507027  4.018121  4.018121  ...  4.018121  4.018121  2.762574   \n",
            "97   2.470694  3.850534  2.470694  ...  3.850534  3.850534  2.470694   \n",
            "98   3.870982  3.870982  3.870982  ...  3.870982  2.888889  1.906796   \n",
            "99   2.046016  4.252551  3.517039  ...  3.517039  3.517039  3.517039   \n",
            "100  4.244837  3.337300  4.244837  ...  4.244837  2.429763  3.337300   \n",
            "101  1.500127  3.420589  4.380820  ...  4.380820  3.420589  3.420589   \n",
            "102  2.239055  4.398302  3.678553  ...  4.398302  3.678553  2.958804   \n",
            "103  2.888889  4.022912  4.022912  ...  4.022912  4.022912  1.754866   \n",
            "104  3.517039  3.517039  2.781527  ...  3.517039  2.781527  2.781527   \n",
            "105  1.570370  4.059260  1.570370  ...  3.229630  2.400000  3.229630   \n",
            "106  3.372310  2.155405  2.155405  ...  3.372310  2.155405  2.155405   \n",
            "107  2.533530  4.272145  3.402837  ...  4.272145  4.272145  1.664222   \n",
            "108  3.315061  4.074788  3.315061  ...  4.074788  3.315061  3.315061   \n",
            "109  3.277999  3.277999  3.277999  ...  4.037726  4.037726  3.277999   \n",
            "110  3.784676  3.080910  3.784676  ...  3.784676  3.784676  2.377144   \n",
            "111  2.741887  4.249516  3.495701  ...  4.249516  3.495701  1.988073   \n",
            "112  2.462799  4.045856  4.045856  ...  4.045856  4.045856  3.254328   \n",
            "\n",
            "     DMOS_GNA  DMOS_GNL  DMOS_SPH  DMOS_SPA  DMOS_SPL   DMOS_PN  OR  \n",
            "96   2.762574  2.762574  2.762574  2.762574  2.762574  1.507027   4  \n",
            "97   2.470694  2.470694  3.850534  2.470694  2.470694  1.090853   4  \n",
            "98   1.906796  2.888889  1.906796  1.906796  1.906796  0.924703   5  \n",
            "99   3.517039  2.781527  3.517039  2.781527  2.781527  1.310504   5  \n",
            "100  3.337300  3.337300  3.337300  2.429763  1.522226  1.522226   4  \n",
            "101  2.460358  2.460358  3.420589  2.460358  1.500127  2.460358   5  \n",
            "102  2.958804  2.958804  2.958804  2.239055  2.239055  2.239055   5  \n",
            "103  1.754866  1.754866  1.754866  2.888889  1.754866  1.754866   4  \n",
            "104  2.046016  2.046016  2.781527  2.046016  2.046016  1.310504   5  \n",
            "105  2.400000  2.400000  3.229630  3.229630  2.400000  1.570370   5  \n",
            "106  2.155405  2.155405  3.372310  3.372310  3.372310  0.938500   5  \n",
            "107  2.533530  2.533530  2.533530  3.402837  1.664222  1.664222   4  \n",
            "108  2.555334  1.795607  1.795607  1.795607  1.795607  1.035881   5  \n",
            "109  3.277999  2.518272  3.277999  3.277999  3.277999  1.758546   5  \n",
            "110  2.377144  2.377144  3.080910  3.080910  3.080910  0.969611   5  \n",
            "111  2.741887  1.234258  2.741887  1.988073  2.741887  1.988073   5  \n",
            "112  2.462799  2.462799  3.254328  2.462799  0.879743  1.671271   5  \n",
            "\n",
            "[17 rows x 22 columns]\n"
          ]
        }
      ]
    },
    {
      "cell_type": "markdown",
      "source": [
        "mean of image 24"
      ],
      "metadata": {
        "id": "5wlaxgXa1Vn2"
      }
    },
    {
      "cell_type": "code",
      "source": [
        "df2 = df[[\"DMOS_PH\",\"DMOS_PA\",\"DMOS_PL\" ,\"DMOS_BH\", \"DMOS_BA\" ,\"DMOS_BL\", \"DMOS_MBH\", \"DMOS_MBA\", \"DMOS_MBL\", \"DMOS_GBH\", \"DMOS_GBA\" ,\"DMOS_GBL\", \"DMOS_GNH\" ,\"DMOS_GNA\" ,\"DMOS_GNL\" ,\"DMOS_SPH\", \"DMOS_SPA\", \"DMOS_SPL\", \"DMOS_PN\" ,\"OR\"]].mean()\n",
        "print(df2)"
      ],
      "metadata": {
        "colab": {
          "base_uri": "https://localhost:8080/"
        },
        "id": "PWeriuHG0zP9",
        "outputId": "3ddb9667-1d22-48e1-b5e7-25a8f90dbe19"
      },
      "execution_count": null,
      "outputs": [
        {
          "output_type": "stream",
          "name": "stdout",
          "text": [
            "DMOS_PH     3.179243\n",
            "DMOS_PA     2.660649\n",
            "DMOS_PL     2.266387\n",
            "DMOS_BH     3.024325\n",
            "DMOS_BA     3.127473\n",
            "DMOS_BL     2.784900\n",
            "DMOS_MBH    3.759071\n",
            "DMOS_MBA    3.413729\n",
            "DMOS_MBL    2.693975\n",
            "DMOS_GBH    3.866457\n",
            "DMOS_GBA    3.934543\n",
            "DMOS_GBL    3.418500\n",
            "DMOS_GNH    2.716003\n",
            "DMOS_GNA    2.571679\n",
            "DMOS_GNL    2.408120\n",
            "DMOS_SPH    2.916249\n",
            "DMOS_SPA    2.623285\n",
            "DMOS_SPL    2.246856\n",
            "DMOS_PN     1.512739\n",
            "OR          4.705882\n",
            "dtype: float64\n"
          ]
        }
      ]
    },
    {
      "cell_type": "markdown",
      "source": [
        "data of image 28"
      ],
      "metadata": {
        "id": "uJRFmdKP2T1e"
      }
    },
    {
      "cell_type": "code",
      "source": [
        "df=data_img.loc[data_img['Image'] == 28]\n",
        "print(df)"
      ],
      "metadata": {
        "colab": {
          "base_uri": "https://localhost:8080/"
        },
        "id": "flckW2vQ2VtO",
        "outputId": "253bedf7-1981-41ea-cff0-4282613e5cbd"
      },
      "execution_count": null,
      "outputs": [
        {
          "output_type": "stream",
          "name": "stdout",
          "text": [
            "     Image  Subject   DMOS_PH   DMOS_PA   DMOS_PL   DMOS_BH   DMOS_BA  \\\n",
            "113     28      114  2.267694  3.854143  2.267694  3.060919  1.474469   \n",
            "114     28      115  2.939443  2.939443  1.923358  3.955528  3.955528   \n",
            "115     28      116  2.778797  2.778797  1.687051  3.870543  3.870543   \n",
            "116     28      117  3.362640  3.362640  0.602958  3.362640  3.362640   \n",
            "117     28      118  1.796806  1.796806  3.094926  1.796806  3.094926   \n",
            "118     28      119  3.613157  4.433218  2.793096  3.613157  1.973035   \n",
            "119     28      120  2.338599  1.428502  3.248696  1.428502  2.338599   \n",
            "120     28      121  3.578513  1.753156  3.578513  3.578513  3.578513   \n",
            "121     28      122  3.546192  3.546192  3.546192  3.546192  3.546192   \n",
            "122     28      123  3.829036  2.652998  0.300922  2.652998  3.829036   \n",
            "123     28      124  2.859502  4.087307  1.631697  2.245600  1.631697   \n",
            "124     28      125  3.384004  3.384004  2.159343  2.159343  2.771673   \n",
            "125     28      126  2.218638  2.218638  0.889607  3.547670  3.547670   \n",
            "126     28      127  2.774305  1.630201  1.630201  3.918408  2.774305   \n",
            "127     28      128  4.147576  4.147576  1.859369  1.859369  3.003473   \n",
            "\n",
            "      DMOS_BL  DMOS_MBH  DMOS_MBA  ...  DMOS_GBA  DMOS_GBL  DMOS_GNH  \\\n",
            "113  1.474469  3.854143  2.267694  ...  3.854143  2.267694  3.854143   \n",
            "114  2.939443  3.955528  2.939443  ...  3.955528  2.939443  2.939443   \n",
            "115  2.778797  3.870543  3.870543  ...  3.870543  3.870543  2.778797   \n",
            "116  3.362640  3.362640  3.362640  ...  3.362640  3.362640  3.362640   \n",
            "117  3.094926  3.094926  3.094926  ...  3.094926  4.393045  4.393045   \n",
            "118  1.973035  1.973035  1.973035  ...  3.613157  1.973035  1.973035   \n",
            "119  1.428502  4.158793  2.338599  ...  4.158793  4.158793  3.248696   \n",
            "120  1.753156  1.753156  3.578513  ...  3.578513  3.578513  1.753156   \n",
            "121  3.546192  3.546192  3.546192  ...  3.546192  3.546192  2.347316   \n",
            "122  2.652998  2.652998  2.652998  ...  3.829036  3.829036  3.829036   \n",
            "123  2.859502  3.473405  3.473405  ...  4.087307  4.087307  3.473405   \n",
            "124  3.384004  3.996334  3.996334  ...  3.996334  3.996334  2.159343   \n",
            "125  2.218638  3.547670  3.547670  ...  3.547670  3.547670  3.547670   \n",
            "126  2.774305  2.774305  2.774305  ...  3.918408  3.918408  2.774305   \n",
            "127  3.003473  4.147576  3.003473  ...  4.147576  3.003473  3.003473   \n",
            "\n",
            "     DMOS_GNA  DMOS_GNL  DMOS_SPH  DMOS_SPA  DMOS_SPL   DMOS_PN  OR  \n",
            "113  3.854143  3.854143  3.854143  3.060919  3.060919  2.267694   5  \n",
            "114  2.939443  1.923358  3.955528  1.923358  1.923358  0.907273   4  \n",
            "115  1.687051  1.687051  2.778797  1.687051  1.687051  1.687051   3  \n",
            "116  3.362640  3.362640  3.362640  3.362640  1.982799  0.602958   4  \n",
            "117  1.796806  4.393045  1.796806  3.094926  3.094926  1.796806   3  \n",
            "118  3.613157  3.613157  2.793096  1.973035  1.973035  4.433218   1  \n",
            "119  3.248696  3.248696  3.248696  3.248696  2.338599  2.338599   4  \n",
            "120  3.578513  1.753156  3.578513  1.753156  3.578513  1.753156   2  \n",
            "121  2.347316  1.148440  2.347316  3.546192  1.148440  1.148440   4  \n",
            "122  3.829036  2.652998  2.652998  2.652998  2.652998  1.476960   4  \n",
            "123  2.859502  1.631697  2.859502  3.473405  2.859502  1.631697   5  \n",
            "124  2.159343  1.547012  2.159343  2.159343  2.159343  1.547012   5  \n",
            "125  3.547670  3.547670  3.547670  2.218638  2.218638  0.889607   4  \n",
            "126  2.774305  3.918408  3.918408  2.774305  2.774305  0.486098   4  \n",
            "127  3.003473  1.859369  3.003473  1.859369  1.859369  1.859369   4  \n",
            "\n",
            "[15 rows x 22 columns]\n"
          ]
        }
      ]
    },
    {
      "cell_type": "markdown",
      "source": [
        "mean of image 28"
      ],
      "metadata": {
        "id": "NdZ_XMPw2Zhu"
      }
    },
    {
      "cell_type": "code",
      "source": [
        "df2 = df[[\"DMOS_PH\",\"DMOS_PA\",\"DMOS_PL\" ,\"DMOS_BH\", \"DMOS_BA\" ,\"DMOS_BL\", \"DMOS_MBH\", \"DMOS_MBA\", \"DMOS_MBL\", \"DMOS_GBH\", \"DMOS_GBA\" ,\"DMOS_GBL\", \"DMOS_GNH\" ,\"DMOS_GNA\" ,\"DMOS_GNL\" ,\"DMOS_SPH\", \"DMOS_SPA\", \"DMOS_SPL\", \"DMOS_PN\" ,\"OR\"]].mean()\n",
        "print(df2)"
      ],
      "metadata": {
        "colab": {
          "base_uri": "https://localhost:8080/"
        },
        "id": "zC4Fnlj70y9W",
        "outputId": "96581a08-ae5e-461c-c5e6-0cde6ea3cd5a"
      },
      "execution_count": null,
      "outputs": [
        {
          "output_type": "stream",
          "name": "stdout",
          "text": [
            "DMOS_PH     3.028993\n",
            "DMOS_PA     2.934241\n",
            "DMOS_PL     2.080908\n",
            "DMOS_BH     2.973079\n",
            "DMOS_BA     2.983487\n",
            "DMOS_BL     2.616272\n",
            "DMOS_MBH    3.344083\n",
            "DMOS_MBA    3.094651\n",
            "DMOS_MBL    2.408588\n",
            "DMOS_GBH    3.684177\n",
            "DMOS_GBA    3.770718\n",
            "DMOS_GBL    3.498142\n",
            "DMOS_GNH    3.029167\n",
            "DMOS_GNA    2.973406\n",
            "DMOS_GNL    2.676056\n",
            "DMOS_SPH    3.057129\n",
            "DMOS_SPA    2.585869\n",
            "DMOS_SPL    2.354120\n",
            "DMOS_PN     1.655062\n",
            "OR          3.733333\n",
            "dtype: float64\n"
          ]
        }
      ]
    },
    {
      "cell_type": "markdown",
      "source": [
        "data of image 42"
      ],
      "metadata": {
        "id": "ZO0LT6qc2nfO"
      }
    },
    {
      "cell_type": "code",
      "source": [
        "df=data_img.loc[data_img['Image'] == 42]\n",
        "print(df)"
      ],
      "metadata": {
        "colab": {
          "base_uri": "https://localhost:8080/"
        },
        "id": "NlGOQkk52piV",
        "outputId": "93c34767-63d3-4c6f-9204-6378ffdd72df"
      },
      "execution_count": null,
      "outputs": [
        {
          "output_type": "stream",
          "name": "stdout",
          "text": [
            "     Image  Subject   DMOS_PH   DMOS_PA   DMOS_PL   DMOS_BH   DMOS_BA  \\\n",
            "128     42      129  3.520636  3.520636  2.541758  1.562880  3.520636   \n",
            "129     42      130  3.776794  1.556908  1.556908  1.556908  2.666851   \n",
            "130     42      131  3.773480  3.773480  3.773480  3.773480  2.597442   \n",
            "131     42      132  2.999816  1.889872  1.889872  4.109759  4.109759   \n",
            "132     42      133  2.887870  1.796123  1.796123  2.887870  1.796123   \n",
            "133     42      134  3.507145  2.472684  2.472684  2.472684  1.438223   \n",
            "134     42      135  2.975647  2.975647  4.383179  4.383179  4.383179   \n",
            "135     42      136  3.566545  3.566545  3.566545  1.474592  2.520569   \n",
            "136     42      137  1.151443  3.135303  3.135303  2.143373  4.127234   \n",
            "137     42      138  3.898298  3.898298  3.210607  3.898298  3.898298   \n",
            "138     42      139  4.117102  3.293254  3.293254  4.117102  4.117102   \n",
            "139     42      140  1.774982  1.774982  3.297435  2.536209  2.536209   \n",
            "140     42      141  3.920169  4.908787  1.942932  3.920169  3.920169   \n",
            "141     42      142  3.684337  2.158866  3.684337  3.684337  2.158866   \n",
            "142     42      143  3.368074  4.030597  2.043028  2.705551  2.043028   \n",
            "143     42      144  3.365034  2.404803  1.444572  3.365034  2.404803   \n",
            "\n",
            "      DMOS_BL  DMOS_MBH  DMOS_MBA  ...  DMOS_GBA  DMOS_GBL  DMOS_GNH  \\\n",
            "128  2.541758  2.541758  2.541758  ...  2.541758  1.562880  2.541758   \n",
            "129  2.666851  3.776794  3.776794  ...  3.776794  2.666851  2.666851   \n",
            "130  1.421404  3.773480  2.597442  ...  2.597442  2.597442  2.597442   \n",
            "131  2.999816  4.109759  2.999816  ...  4.109759  2.999816  1.889872   \n",
            "132  1.796123  2.887870  2.887870  ...  3.979616  2.887870  3.979616   \n",
            "133  1.438223  3.507145  3.507145  ...  4.541606  3.507145  2.472684   \n",
            "134  1.568114  2.975647  2.975647  ...  1.568114  1.568114  1.568114   \n",
            "135  2.520569  3.566545  1.474592  ...  3.566545  2.520569  2.520569   \n",
            "136  4.127234  4.127234  2.143373  ...  1.151443  2.143373  3.135303   \n",
            "137  1.835224  3.898298  3.210607  ...  3.898298  2.522916  1.835224   \n",
            "138  2.469405  2.469405  1.645556  ...  3.293254  1.645556  4.117102   \n",
            "139  2.536209  3.297435  3.297435  ...  4.058662  4.058662  3.297435   \n",
            "140  1.942932  2.931550  2.931550  ...  3.920169  2.931550  1.942932   \n",
            "141  3.684337  2.158866  2.158866  ...  2.158866  2.158866  3.684337   \n",
            "142  2.043028  4.030597  3.368074  ...  4.030597  4.030597  2.043028   \n",
            "143  2.404803  3.365034  3.365034  ...  4.325265  2.404803  3.365034   \n",
            "\n",
            "     DMOS_GNA  DMOS_GNL  DMOS_SPH  DMOS_SPA  DMOS_SPL   DMOS_PN  OR  \n",
            "128  2.541758  2.541758  1.562880  4.499514  4.499514  2.541758   4  \n",
            "129  3.776794  2.666851  2.666851  2.666851  2.666851  1.556908   4  \n",
            "130  3.773480  3.773480  1.421404  2.597442  2.597442  3.773480   3  \n",
            "131  1.889872  1.889872  1.889872  1.889872  2.999816  1.889872   3  \n",
            "132  2.887870  1.796123  2.887870  1.796123  2.887870  2.887870   4  \n",
            "133  2.472684  3.507145  2.472684  2.472684  2.472684  1.438223   5  \n",
            "134  2.975647  2.975647  2.975647  2.975647  2.975647  2.975647   3  \n",
            "135  4.612522  1.474592  2.520569  1.474592  3.566545  3.566545   1  \n",
            "136  4.127234  3.135303  3.135303  2.143373  3.135303  3.135303   1  \n",
            "137  2.522916  1.835224  2.522916  3.210607  1.147533  2.522916   5  \n",
            "138  2.469405  2.469405  2.469405  2.469405  1.645556  1.645556   4  \n",
            "139  2.536209  2.536209  4.058662  2.536209  1.774982  1.774982   5  \n",
            "140  1.942932  1.942932  2.931550  1.942932  1.942932  1.942932   4  \n",
            "141  2.158866  2.158866  2.158866  2.158866  5.209808  3.684337   3  \n",
            "142  2.043028  2.043028  2.705551  2.043028  2.705551  2.043028   5  \n",
            "143  2.404803  2.404803  1.444572  3.365034  1.444572  4.325265   5  \n",
            "\n",
            "[16 rows x 22 columns]\n"
          ]
        }
      ]
    },
    {
      "cell_type": "markdown",
      "source": [
        "mean of image 42"
      ],
      "metadata": {
        "id": "d4imdzCa2ueO"
      }
    },
    {
      "cell_type": "code",
      "source": [
        "df2 = df[[\"DMOS_PH\",\"DMOS_PA\",\"DMOS_PL\" ,\"DMOS_BH\", \"DMOS_BA\" ,\"DMOS_BL\", \"DMOS_MBH\", \"DMOS_MBA\", \"DMOS_MBL\", \"DMOS_GBH\", \"DMOS_GBA\" ,\"DMOS_GBL\", \"DMOS_GNH\" ,\"DMOS_GNA\" ,\"DMOS_GNL\" ,\"DMOS_SPH\", \"DMOS_SPA\", \"DMOS_SPL\", \"DMOS_PN\" ,\"OR\"]].mean()\n",
        "print(df2)"
      ],
      "metadata": {
        "colab": {
          "base_uri": "https://localhost:8080/"
        },
        "id": "WT4YKafA0yjN",
        "outputId": "99b6bbac-2c5c-4aeb-b752-ba1fa3579d05"
      },
      "execution_count": null,
      "outputs": [
        {
          "output_type": "stream",
          "name": "stdout",
          "text": [
            "DMOS_PH     3.267961\n",
            "DMOS_PA     2.947299\n",
            "DMOS_PL     2.752001\n",
            "DMOS_BH     3.036964\n",
            "DMOS_BA     3.014906\n",
            "DMOS_BL     2.374752\n",
            "DMOS_MBH    3.338589\n",
            "DMOS_MBA    2.805097\n",
            "DMOS_MBL    2.619762\n",
            "DMOS_GBH    3.637643\n",
            "DMOS_GBA    3.344887\n",
            "DMOS_GBL    2.637938\n",
            "DMOS_GNH    2.728581\n",
            "DMOS_GNA    2.821001\n",
            "DMOS_GNL    2.446952\n",
            "DMOS_SPH    2.489038\n",
            "DMOS_SPA    2.515136\n",
            "DMOS_SPL    2.729538\n",
            "DMOS_PN     2.606539\n",
            "OR          3.687500\n",
            "dtype: float64\n"
          ]
        }
      ]
    },
    {
      "cell_type": "markdown",
      "source": [
        "data of image 47"
      ],
      "metadata": {
        "id": "Jz6LmcRt2763"
      }
    },
    {
      "cell_type": "code",
      "source": [
        "df=data_img.loc[data_img['Image'] == 47]\n",
        "print(df)"
      ],
      "metadata": {
        "colab": {
          "base_uri": "https://localhost:8080/"
        },
        "id": "_DSiZFoE2-Su",
        "outputId": "98b3bca5-cb9f-4b67-eb2f-6a541b85b7a9"
      },
      "execution_count": null,
      "outputs": [
        {
          "output_type": "stream",
          "name": "stdout",
          "text": [
            "     Image  Subject   DMOS_PH   DMOS_PA   DMOS_PL   DMOS_BH   DMOS_BA  \\\n",
            "144     47      145  3.317852  1.727987  1.727987  3.317852  3.317852   \n",
            "145     47      146  3.067360  3.067360  3.067360  3.067360  3.067360   \n",
            "146     47      147  4.199996  3.292459  3.292459  3.292459  3.292459   \n",
            "147     47      148  1.704102  2.959648  2.959648  1.704102  1.704102   \n",
            "148     47      149  3.218447  1.371986  2.295217  2.295217  2.295217   \n",
            "149     47      150  1.556908  2.666851  2.666851  3.776794  3.776794   \n",
            "150     47      151  2.405230  2.405230  1.841302  2.405230  4.097015   \n",
            "151     47      152  3.963651  3.963651  3.066142  3.066142  3.963651   \n",
            "152     47      153  3.035891  2.282076  2.282076  3.789705  3.789705   \n",
            "153     47      154  2.335043  1.527840  3.142247  3.949450  3.142247   \n",
            "154     47      155  1.586476  2.773768  2.773768  3.961060  3.961060   \n",
            "155     47      156  3.783640  3.783640  2.852251  3.783640  3.783640   \n",
            "156     47      157  3.047327  3.704946  3.047327  3.704946  3.047327   \n",
            "157     47      158  2.652793  1.420226  2.036509  3.885360  3.885360   \n",
            "158     47      159  2.635531  4.249938  1.828328  4.249938  4.249938   \n",
            "159     47      160  2.833333  2.833333  0.869148  2.833333  2.833333   \n",
            "160     47      161  4.201358  2.663634  2.663634  3.432496  4.201358   \n",
            "\n",
            "      DMOS_BL  DMOS_MBH  DMOS_MBA  ...  DMOS_GBA  DMOS_GBL  DMOS_GNH  \\\n",
            "144  3.317852  3.317852  3.317852  ...  4.907717  1.727987  3.317852   \n",
            "145  3.067360  3.067360  3.067360  ...  4.605084  3.067360  1.529636   \n",
            "146  2.384922  4.199996  3.292459  ...  3.292459  3.292459  2.384922   \n",
            "147  2.959648  2.959648  1.704102  ...  4.215195  4.215195  2.959648   \n",
            "148  1.371986  3.218447  4.141677  ...  4.141677  4.141677  3.218447   \n",
            "149  1.556908  3.776794  3.776794  ...  3.776794  3.776794  1.556908   \n",
            "150  2.969158  4.097015  2.969158  ...  4.097015  4.097015  1.841302   \n",
            "151  3.066142  3.963651  2.168634  ...  3.963651  3.066142  2.168634   \n",
            "152  3.035891  4.543520  3.789705  ...  4.543520  3.035891  2.282076   \n",
            "153  2.335043  3.949450  3.142247  ...  3.949450  3.949450  3.949450   \n",
            "154  2.773768  3.961060  2.773768  ...  3.961060  3.961060  2.773768   \n",
            "155  3.783640  3.783640  2.852251  ...  3.783640  1.920863  3.783640   \n",
            "156  3.047327  3.704946  3.047327  ...  4.362565  3.704946  2.389708   \n",
            "157  3.269077  3.885360  3.885360  ...  3.885360  3.885360  2.036509   \n",
            "158  3.442735  3.442735  3.442735  ...  3.442735  3.442735  2.635531   \n",
            "159  2.833333  2.833333  2.833333  ...  0.869148  2.833333  4.797519   \n",
            "160  4.201358  3.432496  2.663634  ...  2.663634  2.663634  3.432496   \n",
            "\n",
            "     DMOS_GNA  DMOS_GNL  DMOS_SPH  DMOS_SPA  DMOS_SPL   DMOS_PN  OR  \n",
            "144  1.727987  3.317852  3.317852  3.317852  1.727987  3.317852   3  \n",
            "145  3.067360  1.529636  3.067360  1.529636  3.067360  1.529636   3  \n",
            "146  1.477385  1.477385  2.384922  2.384922  1.477385  1.477385   5  \n",
            "147  1.704102  2.959648  2.959648  4.215195  2.959648  1.704102   3  \n",
            "148  2.295217  2.295217  4.141677  3.218447  2.295217  2.295217   5  \n",
            "149  1.556908  2.666851  2.666851  3.776794  2.666851  1.556908   3  \n",
            "150  2.405230  1.841302  1.841302  2.969158  1.841302  2.405230   5  \n",
            "151  1.271125  1.271125  3.066142  2.168634  2.168634  2.168634   4  \n",
            "152  2.282076  2.282076  1.528262  2.282076  2.282076  1.528262   5  \n",
            "153  3.142247  3.142247  2.335043  2.335043  0.720636  2.335043   5  \n",
            "154  1.586476  1.586476  1.586476  2.773768  2.773768  1.586476   3  \n",
            "155  1.920863  1.920863  1.920863  1.920863  0.989474  2.852251   5  \n",
            "156  1.732088  1.732088  1.732088  1.732088  1.732088  1.732088   5  \n",
            "157  2.652793  2.036509  3.269077  1.420226  2.036509  2.036509   5  \n",
            "158  1.828328  1.828328  1.828328  2.635531  1.828328  1.828328   4  \n",
            "159  2.833333  2.833333  2.833333  2.833333  2.833333  4.797519   2  \n",
            "160  1.894772  2.663634  3.432496  1.894772  1.894772  1.125910   5  \n",
            "\n",
            "[17 rows x 22 columns]\n"
          ]
        }
      ]
    },
    {
      "cell_type": "markdown",
      "source": [
        "mean of image 47"
      ],
      "metadata": {
        "id": "Fw8uSBXJ3CE9"
      }
    },
    {
      "cell_type": "code",
      "source": [
        "df2 = df[[\"DMOS_PH\",\"DMOS_PA\",\"DMOS_PL\" ,\"DMOS_BH\", \"DMOS_BA\" ,\"DMOS_BL\", \"DMOS_MBH\", \"DMOS_MBA\", \"DMOS_MBL\", \"DMOS_GBH\", \"DMOS_GBA\" ,\"DMOS_GBL\", \"DMOS_GNH\" ,\"DMOS_GNA\" ,\"DMOS_GNL\" ,\"DMOS_SPH\", \"DMOS_SPA\", \"DMOS_SPL\", \"DMOS_PN\" ,\"OR\"]].mean()\n",
        "print(df2)"
      ],
      "metadata": {
        "colab": {
          "base_uri": "https://localhost:8080/"
        },
        "id": "6RlxXEFv0yAe",
        "outputId": "dd70be31-cedd-4529-f40c-181c8031e579"
      },
      "execution_count": null,
      "outputs": [
        {
          "output_type": "stream",
          "name": "stdout",
          "text": [
            "DMOS_PH     2.914408\n",
            "DMOS_PA     2.746740\n",
            "DMOS_PL     2.494838\n",
            "DMOS_BH     3.324417\n",
            "DMOS_BA     3.435789\n",
            "DMOS_BL     2.906832\n",
            "DMOS_MBH    3.655136\n",
            "DMOS_MBA    3.109906\n",
            "DMOS_MBL    2.633921\n",
            "DMOS_GBH    3.819800\n",
            "DMOS_GBA    3.791806\n",
            "DMOS_GBL    3.340112\n",
            "DMOS_GNH    2.768120\n",
            "DMOS_GNA    2.081076\n",
            "DMOS_GNL    2.199092\n",
            "DMOS_SPH    2.583042\n",
            "DMOS_SPA    2.553432\n",
            "DMOS_SPL    2.076198\n",
            "DMOS_PN     2.133962\n",
            "OR          4.117647\n",
            "dtype: float64\n"
          ]
        }
      ]
    }
  ]
}